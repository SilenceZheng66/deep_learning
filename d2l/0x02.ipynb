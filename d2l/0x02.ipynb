{
 "cells": [
  {
   "cell_type": "markdown",
   "source": [
    "# 实践一下预备知识章节，对应笔记0x02"
   ],
   "metadata": {
    "collapsed": false
   }
  },
  {
   "cell_type": "code",
   "execution_count": 1,
   "metadata": {
    "collapsed": true
   },
   "outputs": [
    {
     "name": "stdout",
     "output_type": "stream",
     "text": [
      "1.8.0\n"
     ]
    }
   ],
   "source": [
    "import torch\n",
    "print(torch.__version__)"
   ]
  },
  {
   "cell_type": "code",
   "execution_count": 2,
   "outputs": [
    {
     "data": {
      "text/plain": "tensor([[ 0,  1,  2,  3,  4],\n        [ 5,  6,  7,  8,  9],\n        [10, 11, 12, 13, 14],\n        [15, 16, 17, 18, 19]])"
     },
     "execution_count": 2,
     "metadata": {},
     "output_type": "execute_result"
    }
   ],
   "source": [
    "x = torch.arange(20).reshape(4,5)\n",
    "x"
   ],
   "metadata": {
    "collapsed": false,
    "pycharm": {
     "name": "#%%\n"
    }
   }
  },
  {
   "cell_type": "code",
   "execution_count": 3,
   "outputs": [
    {
     "data": {
      "text/plain": "tensor([[ 0,  1,  2,  3],\n        [ 4,  5,  6,  7],\n        [ 8,  9, 10, 11],\n        [12, 13, 14, 15],\n        [16, 17, 18, 19]])"
     },
     "execution_count": 3,
     "metadata": {},
     "output_type": "execute_result"
    }
   ],
   "source": [
    "y = torch.arange(20).reshape(5,4)\n",
    "y"
   ],
   "metadata": {
    "collapsed": false,
    "pycharm": {
     "name": "#%%\n"
    }
   }
  },
  {
   "cell_type": "code",
   "execution_count": 4,
   "outputs": [
    {
     "data": {
      "text/plain": "(tensor([1., 1., 1., 1., 1.]), tensor([0, 1, 2, 3, 4]))"
     },
     "execution_count": 4,
     "metadata": {},
     "output_type": "execute_result"
    }
   ],
   "source": [
    "v1 = torch.ones(5)\n",
    "v2 = torch.arange(5)\n",
    "v1,v2"
   ],
   "metadata": {
    "collapsed": false,
    "pycharm": {
     "name": "#%%\n"
    }
   }
  },
  {
   "cell_type": "code",
   "execution_count": 5,
   "outputs": [
    {
     "data": {
      "text/plain": "(tensor(10.), tensor([ 30,  80, 130, 180]))"
     },
     "execution_count": 5,
     "metadata": {},
     "output_type": "execute_result"
    }
   ],
   "source": [
    "r1 = torch.dot(v1,torch.arange(5,dtype=torch.float))\n",
    "r2 = torch.mv(x,v2)\n",
    "r1,r2"
   ],
   "metadata": {
    "collapsed": false,
    "pycharm": {
     "name": "#%%\n"
    }
   }
  },
  {
   "cell_type": "markdown",
   "source": [
    "## 下面平方和为36，故Frobenius范数为36开平方。"
   ],
   "metadata": {
    "collapsed": false
   }
  },
  {
   "cell_type": "code",
   "execution_count": 6,
   "outputs": [
    {
     "data": {
      "text/plain": "tensor(6.)"
     },
     "execution_count": 6,
     "metadata": {},
     "output_type": "execute_result"
    }
   ],
   "source": [
    "torch.norm(torch.ones((4,9)))"
   ],
   "metadata": {
    "collapsed": false,
    "pycharm": {
     "name": "#%%\n"
    }
   }
  },
  {
   "cell_type": "code",
   "execution_count": 7,
   "outputs": [
    {
     "name": "stdout",
     "output_type": "stream",
     "text": [
      "h=0.10000, numerical limit=2.30000\n",
      "h=0.01000, numerical limit=2.03000\n",
      "h=0.00100, numerical limit=2.00300\n",
      "h=0.00010, numerical limit=2.00030\n",
      "h=0.00001, numerical limit=2.00003\n"
     ]
    }
   ],
   "source": [
    "import numpy as np\n",
    "from matplotlib_inline import backend_inline\n",
    "\n",
    "def f(x):\n",
    "    return 3 * x ** 2 - 4 * x\n",
    "\n",
    "def numerical_lim(f, x, h):\n",
    "    return (f(x + h) - f(x)) / h\n",
    "\n",
    "h = 0.1\n",
    "for i in range(5):\n",
    "    print(f'h={h:.5f}, numerical limit={numerical_lim(f, 1, h):.5f}')\n",
    "    h *= 0.1"
   ],
   "metadata": {
    "collapsed": false,
    "pycharm": {
     "name": "#%%\n"
    }
   }
  },
  {
   "cell_type": "markdown",
   "source": [
    "## 可以看到h越小，导数（极限）越接近2。"
   ],
   "metadata": {
    "collapsed": false
   }
  },
  {
   "cell_type": "code",
   "execution_count": 8,
   "outputs": [
    {
     "data": {
      "text/plain": "<Figure size 252x180 with 1 Axes>",
      "image/svg+xml": "<?xml version=\"1.0\" encoding=\"utf-8\" standalone=\"no\"?>\n<!DOCTYPE svg PUBLIC \"-//W3C//DTD SVG 1.1//EN\"\n  \"http://www.w3.org/Graphics/SVG/1.1/DTD/svg11.dtd\">\n<svg height=\"184.15625pt\" version=\"1.1\" viewBox=\"0 0 246.603125 184.15625\" width=\"246.603125pt\" xmlns=\"http://www.w3.org/2000/svg\" xmlns:xlink=\"http://www.w3.org/1999/xlink\">\n <metadata>\n  <rdf:RDF xmlns:cc=\"http://creativecommons.org/ns#\" xmlns:dc=\"http://purl.org/dc/elements/1.1/\" xmlns:rdf=\"http://www.w3.org/1999/02/22-rdf-syntax-ns#\">\n   <cc:Work>\n    <dc:type rdf:resource=\"http://purl.org/dc/dcmitype/StillImage\"/>\n    <dc:date>2022-05-04T23:50:06.146874</dc:date>\n    <dc:format>image/svg+xml</dc:format>\n    <dc:creator>\n     <cc:Agent>\n      <dc:title>Matplotlib v3.4.2, https://matplotlib.org/</dc:title>\n     </cc:Agent>\n    </dc:creator>\n   </cc:Work>\n  </rdf:RDF>\n </metadata>\n <defs>\n  <style type=\"text/css\">*{stroke-linecap:butt;stroke-linejoin:round;}</style>\n </defs>\n <g id=\"figure_1\">\n  <g id=\"patch_1\">\n   <path d=\"M 0 184.15625 \nL 246.603125 184.15625 \nL 246.603125 -0 \nL 0 -0 \nz\n\" style=\"fill:none;\"/>\n  </g>\n  <g id=\"axes_1\">\n   <g id=\"patch_2\">\n    <path d=\"M 40.603125 146.6 \nL 235.903125 146.6 \nL 235.903125 10.7 \nL 40.603125 10.7 \nz\n\" style=\"fill:#ffffff;\"/>\n   </g>\n   <g id=\"matplotlib.axis_1\">\n    <g id=\"xtick_1\">\n     <g id=\"line2d_1\">\n      <path clip-path=\"url(#p9190863e63)\" d=\"M 49.480398 146.6 \nL 49.480398 10.7 \n\" style=\"fill:none;stroke:#b0b0b0;stroke-linecap:square;stroke-width:0.8;\"/>\n     </g>\n     <g id=\"line2d_2\">\n      <defs>\n       <path d=\"M 0 0 \nL 0 3.5 \n\" id=\"m088e616e9d\" style=\"stroke:#000000;stroke-width:0.8;\"/>\n      </defs>\n      <g>\n       <use style=\"stroke:#000000;stroke-width:0.8;\" x=\"49.480398\" xlink:href=\"#m088e616e9d\" y=\"146.6\"/>\n      </g>\n     </g>\n     <g id=\"line2d_3\">\n      <defs>\n       <path d=\"M 0 0 \nL 0 -3.5 \n\" id=\"mc338d74603\" style=\"stroke:#000000;stroke-width:0.8;\"/>\n      </defs>\n      <g>\n       <use style=\"stroke:#000000;stroke-width:0.8;\" x=\"49.480398\" xlink:href=\"#mc338d74603\" y=\"10.7\"/>\n      </g>\n     </g>\n     <g id=\"text_1\">\n      <!-- 0 -->\n      <g transform=\"translate(46.299148 161.198437)scale(0.1 -0.1)\">\n       <defs>\n        <path d=\"M 2034 4250 \nQ 1547 4250 1301 3770 \nQ 1056 3291 1056 2328 \nQ 1056 1369 1301 889 \nQ 1547 409 2034 409 \nQ 2525 409 2770 889 \nQ 3016 1369 3016 2328 \nQ 3016 3291 2770 3770 \nQ 2525 4250 2034 4250 \nz\nM 2034 4750 \nQ 2819 4750 3233 4129 \nQ 3647 3509 3647 2328 \nQ 3647 1150 3233 529 \nQ 2819 -91 2034 -91 \nQ 1250 -91 836 529 \nQ 422 1150 422 2328 \nQ 422 3509 836 4129 \nQ 1250 4750 2034 4750 \nz\n\" id=\"DejaVuSans-30\" transform=\"scale(0.015625)\"/>\n       </defs>\n       <use xlink:href=\"#DejaVuSans-30\"/>\n      </g>\n     </g>\n    </g>\n    <g id=\"xtick_2\">\n     <g id=\"line2d_4\">\n      <path clip-path=\"url(#p9190863e63)\" d=\"M 110.702968 146.6 \nL 110.702968 10.7 \n\" style=\"fill:none;stroke:#b0b0b0;stroke-linecap:square;stroke-width:0.8;\"/>\n     </g>\n     <g id=\"line2d_5\">\n      <g>\n       <use style=\"stroke:#000000;stroke-width:0.8;\" x=\"110.702968\" xlink:href=\"#m088e616e9d\" y=\"146.6\"/>\n      </g>\n     </g>\n     <g id=\"line2d_6\">\n      <g>\n       <use style=\"stroke:#000000;stroke-width:0.8;\" x=\"110.702968\" xlink:href=\"#mc338d74603\" y=\"10.7\"/>\n      </g>\n     </g>\n     <g id=\"text_2\">\n      <!-- 1 -->\n      <g transform=\"translate(107.521718 161.198437)scale(0.1 -0.1)\">\n       <defs>\n        <path d=\"M 794 531 \nL 1825 531 \nL 1825 4091 \nL 703 3866 \nL 703 4441 \nL 1819 4666 \nL 2450 4666 \nL 2450 531 \nL 3481 531 \nL 3481 0 \nL 794 0 \nL 794 531 \nz\n\" id=\"DejaVuSans-31\" transform=\"scale(0.015625)\"/>\n       </defs>\n       <use xlink:href=\"#DejaVuSans-31\"/>\n      </g>\n     </g>\n    </g>\n    <g id=\"xtick_3\">\n     <g id=\"line2d_7\">\n      <path clip-path=\"url(#p9190863e63)\" d=\"M 171.925539 146.6 \nL 171.925539 10.7 \n\" style=\"fill:none;stroke:#b0b0b0;stroke-linecap:square;stroke-width:0.8;\"/>\n     </g>\n     <g id=\"line2d_8\">\n      <g>\n       <use style=\"stroke:#000000;stroke-width:0.8;\" x=\"171.925539\" xlink:href=\"#m088e616e9d\" y=\"146.6\"/>\n      </g>\n     </g>\n     <g id=\"line2d_9\">\n      <g>\n       <use style=\"stroke:#000000;stroke-width:0.8;\" x=\"171.925539\" xlink:href=\"#mc338d74603\" y=\"10.7\"/>\n      </g>\n     </g>\n     <g id=\"text_3\">\n      <!-- 2 -->\n      <g transform=\"translate(168.744289 161.198437)scale(0.1 -0.1)\">\n       <defs>\n        <path d=\"M 1228 531 \nL 3431 531 \nL 3431 0 \nL 469 0 \nL 469 531 \nQ 828 903 1448 1529 \nQ 2069 2156 2228 2338 \nQ 2531 2678 2651 2914 \nQ 2772 3150 2772 3378 \nQ 2772 3750 2511 3984 \nQ 2250 4219 1831 4219 \nQ 1534 4219 1204 4116 \nQ 875 4013 500 3803 \nL 500 4441 \nQ 881 4594 1212 4672 \nQ 1544 4750 1819 4750 \nQ 2544 4750 2975 4387 \nQ 3406 4025 3406 3419 \nQ 3406 3131 3298 2873 \nQ 3191 2616 2906 2266 \nQ 2828 2175 2409 1742 \nQ 1991 1309 1228 531 \nz\n\" id=\"DejaVuSans-32\" transform=\"scale(0.015625)\"/>\n       </defs>\n       <use xlink:href=\"#DejaVuSans-32\"/>\n      </g>\n     </g>\n    </g>\n    <g id=\"xtick_4\">\n     <g id=\"line2d_10\">\n      <path clip-path=\"url(#p9190863e63)\" d=\"M 233.148109 146.6 \nL 233.148109 10.7 \n\" style=\"fill:none;stroke:#b0b0b0;stroke-linecap:square;stroke-width:0.8;\"/>\n     </g>\n     <g id=\"line2d_11\">\n      <g>\n       <use style=\"stroke:#000000;stroke-width:0.8;\" x=\"233.148109\" xlink:href=\"#m088e616e9d\" y=\"146.6\"/>\n      </g>\n     </g>\n     <g id=\"line2d_12\">\n      <g>\n       <use style=\"stroke:#000000;stroke-width:0.8;\" x=\"233.148109\" xlink:href=\"#mc338d74603\" y=\"10.7\"/>\n      </g>\n     </g>\n     <g id=\"text_4\">\n      <!-- 3 -->\n      <g transform=\"translate(229.966859 161.198437)scale(0.1 -0.1)\">\n       <defs>\n        <path d=\"M 2597 2516 \nQ 3050 2419 3304 2112 \nQ 3559 1806 3559 1356 \nQ 3559 666 3084 287 \nQ 2609 -91 1734 -91 \nQ 1441 -91 1130 -33 \nQ 819 25 488 141 \nL 488 750 \nQ 750 597 1062 519 \nQ 1375 441 1716 441 \nQ 2309 441 2620 675 \nQ 2931 909 2931 1356 \nQ 2931 1769 2642 2001 \nQ 2353 2234 1838 2234 \nL 1294 2234 \nL 1294 2753 \nL 1863 2753 \nQ 2328 2753 2575 2939 \nQ 2822 3125 2822 3475 \nQ 2822 3834 2567 4026 \nQ 2313 4219 1838 4219 \nQ 1578 4219 1281 4162 \nQ 984 4106 628 3988 \nL 628 4550 \nQ 988 4650 1302 4700 \nQ 1616 4750 1894 4750 \nQ 2613 4750 3031 4423 \nQ 3450 4097 3450 3541 \nQ 3450 3153 3228 2886 \nQ 3006 2619 2597 2516 \nz\n\" id=\"DejaVuSans-33\" transform=\"scale(0.015625)\"/>\n       </defs>\n       <use xlink:href=\"#DejaVuSans-33\"/>\n      </g>\n     </g>\n    </g>\n    <g id=\"text_5\">\n     <!-- x -->\n     <g transform=\"translate(135.29375 174.876562)scale(0.1 -0.1)\">\n      <defs>\n       <path d=\"M 3513 3500 \nL 2247 1797 \nL 3578 0 \nL 2900 0 \nL 1881 1375 \nL 863 0 \nL 184 0 \nL 1544 1831 \nL 300 3500 \nL 978 3500 \nL 1906 2253 \nL 2834 3500 \nL 3513 3500 \nz\n\" id=\"DejaVuSans-78\" transform=\"scale(0.015625)\"/>\n      </defs>\n      <use xlink:href=\"#DejaVuSans-78\"/>\n     </g>\n    </g>\n   </g>\n   <g id=\"matplotlib.axis_2\">\n    <g id=\"ytick_1\">\n     <g id=\"line2d_13\">\n      <path clip-path=\"url(#p9190863e63)\" d=\"M 40.603125 118.135514 \nL 235.903125 118.135514 \n\" style=\"fill:none;stroke:#b0b0b0;stroke-linecap:square;stroke-width:0.8;\"/>\n     </g>\n     <g id=\"line2d_14\">\n      <defs>\n       <path d=\"M 0 0 \nL -3.5 0 \n\" id=\"m7610fcede5\" style=\"stroke:#000000;stroke-width:0.8;\"/>\n      </defs>\n      <g>\n       <use style=\"stroke:#000000;stroke-width:0.8;\" x=\"40.603125\" xlink:href=\"#m7610fcede5\" y=\"118.135514\"/>\n      </g>\n     </g>\n     <g id=\"line2d_15\">\n      <defs>\n       <path d=\"M 0 0 \nL 3.5 0 \n\" id=\"mc50ff53351\" style=\"stroke:#000000;stroke-width:0.8;\"/>\n      </defs>\n      <g>\n       <use style=\"stroke:#000000;stroke-width:0.8;\" x=\"235.903125\" xlink:href=\"#mc50ff53351\" y=\"118.135514\"/>\n      </g>\n     </g>\n     <g id=\"text_6\">\n      <!-- 0 -->\n      <g transform=\"translate(27.240625 121.934732)scale(0.1 -0.1)\">\n       <use xlink:href=\"#DejaVuSans-30\"/>\n      </g>\n     </g>\n    </g>\n    <g id=\"ytick_2\">\n     <g id=\"line2d_16\">\n      <path clip-path=\"url(#p9190863e63)\" d=\"M 40.603125 80.990157 \nL 235.903125 80.990157 \n\" style=\"fill:none;stroke:#b0b0b0;stroke-linecap:square;stroke-width:0.8;\"/>\n     </g>\n     <g id=\"line2d_17\">\n      <g>\n       <use style=\"stroke:#000000;stroke-width:0.8;\" x=\"40.603125\" xlink:href=\"#m7610fcede5\" y=\"80.990157\"/>\n      </g>\n     </g>\n     <g id=\"line2d_18\">\n      <g>\n       <use style=\"stroke:#000000;stroke-width:0.8;\" x=\"235.903125\" xlink:href=\"#mc50ff53351\" y=\"80.990157\"/>\n      </g>\n     </g>\n     <g id=\"text_7\">\n      <!-- 5 -->\n      <g transform=\"translate(27.240625 84.789376)scale(0.1 -0.1)\">\n       <defs>\n        <path d=\"M 691 4666 \nL 3169 4666 \nL 3169 4134 \nL 1269 4134 \nL 1269 2991 \nQ 1406 3038 1543 3061 \nQ 1681 3084 1819 3084 \nQ 2600 3084 3056 2656 \nQ 3513 2228 3513 1497 \nQ 3513 744 3044 326 \nQ 2575 -91 1722 -91 \nQ 1428 -91 1123 -41 \nQ 819 9 494 109 \nL 494 744 \nQ 775 591 1075 516 \nQ 1375 441 1709 441 \nQ 2250 441 2565 725 \nQ 2881 1009 2881 1497 \nQ 2881 1984 2565 2268 \nQ 2250 2553 1709 2553 \nQ 1456 2553 1204 2497 \nQ 953 2441 691 2322 \nL 691 4666 \nz\n\" id=\"DejaVuSans-35\" transform=\"scale(0.015625)\"/>\n       </defs>\n       <use xlink:href=\"#DejaVuSans-35\"/>\n      </g>\n     </g>\n    </g>\n    <g id=\"ytick_3\">\n     <g id=\"line2d_19\">\n      <path clip-path=\"url(#p9190863e63)\" d=\"M 40.603125 43.844801 \nL 235.903125 43.844801 \n\" style=\"fill:none;stroke:#b0b0b0;stroke-linecap:square;stroke-width:0.8;\"/>\n     </g>\n     <g id=\"line2d_20\">\n      <g>\n       <use style=\"stroke:#000000;stroke-width:0.8;\" x=\"40.603125\" xlink:href=\"#m7610fcede5\" y=\"43.844801\"/>\n      </g>\n     </g>\n     <g id=\"line2d_21\">\n      <g>\n       <use style=\"stroke:#000000;stroke-width:0.8;\" x=\"235.903125\" xlink:href=\"#mc50ff53351\" y=\"43.844801\"/>\n      </g>\n     </g>\n     <g id=\"text_8\">\n      <!-- 10 -->\n      <g transform=\"translate(20.878125 47.64402)scale(0.1 -0.1)\">\n       <use xlink:href=\"#DejaVuSans-31\"/>\n       <use x=\"63.623047\" xlink:href=\"#DejaVuSans-30\"/>\n      </g>\n     </g>\n    </g>\n    <g id=\"text_9\">\n     <!-- f(x) -->\n     <g transform=\"translate(14.798437 87.271094)rotate(-90)scale(0.1 -0.1)\">\n      <defs>\n       <path d=\"M 2375 4863 \nL 2375 4384 \nL 1825 4384 \nQ 1516 4384 1395 4259 \nQ 1275 4134 1275 3809 \nL 1275 3500 \nL 2222 3500 \nL 2222 3053 \nL 1275 3053 \nL 1275 0 \nL 697 0 \nL 697 3053 \nL 147 3053 \nL 147 3500 \nL 697 3500 \nL 697 3744 \nQ 697 4328 969 4595 \nQ 1241 4863 1831 4863 \nL 2375 4863 \nz\n\" id=\"DejaVuSans-66\" transform=\"scale(0.015625)\"/>\n       <path d=\"M 1984 4856 \nQ 1566 4138 1362 3434 \nQ 1159 2731 1159 2009 \nQ 1159 1288 1364 580 \nQ 1569 -128 1984 -844 \nL 1484 -844 \nQ 1016 -109 783 600 \nQ 550 1309 550 2009 \nQ 550 2706 781 3412 \nQ 1013 4119 1484 4856 \nL 1984 4856 \nz\n\" id=\"DejaVuSans-28\" transform=\"scale(0.015625)\"/>\n       <path d=\"M 513 4856 \nL 1013 4856 \nQ 1481 4119 1714 3412 \nQ 1947 2706 1947 2009 \nQ 1947 1309 1714 600 \nQ 1481 -109 1013 -844 \nL 513 -844 \nQ 928 -128 1133 580 \nQ 1338 1288 1338 2009 \nQ 1338 2731 1133 3434 \nQ 928 4138 513 4856 \nz\n\" id=\"DejaVuSans-29\" transform=\"scale(0.015625)\"/>\n      </defs>\n      <use xlink:href=\"#DejaVuSans-66\"/>\n      <use x=\"35.205078\" xlink:href=\"#DejaVuSans-28\"/>\n      <use x=\"74.21875\" xlink:href=\"#DejaVuSans-78\"/>\n      <use x=\"133.398438\" xlink:href=\"#DejaVuSans-29\"/>\n     </g>\n    </g>\n   </g>\n   <g id=\"line2d_22\">\n    <path clip-path=\"url(#p9190863e63)\" d=\"M 49.480398 118.135514 \nL 55.602655 120.88427 \nL 61.724912 123.187282 \nL 67.847169 125.04455 \nL 73.969426 126.456073 \nL 80.091683 127.421853 \nL 86.21394 127.941888 \nL 92.336197 128.016178 \nL 98.458454 127.644725 \nL 104.580711 126.827527 \nL 110.702968 125.564585 \nL 116.825225 123.855898 \nL 122.947482 121.701468 \nL 129.069739 119.101293 \nL 135.191996 116.055374 \nL 141.314254 112.56371 \nL 147.436511 108.626302 \nL 153.558768 104.24315 \nL 159.681025 99.414254 \nL 165.803282 94.139614 \nL 171.925539 88.419229 \nL 178.047796 82.2531 \nL 184.170053 75.641226 \nL 190.29231 68.583608 \nL 196.414567 61.080247 \nL 202.536824 53.13114 \nL 208.659081 44.73629 \nL 214.781338 35.895695 \nL 220.903595 26.609356 \nL 227.025852 16.877273 \n\" style=\"fill:none;stroke:#1f77b4;stroke-linecap:square;stroke-width:1.5;\"/>\n   </g>\n   <g id=\"line2d_23\">\n    <path clip-path=\"url(#p9190863e63)\" d=\"M 49.480398 140.422727 \nL 55.602655 138.936913 \nL 61.724912 137.451099 \nL 67.847169 135.965285 \nL 73.969426 134.47947 \nL 80.091683 132.993656 \nL 86.21394 131.507842 \nL 92.336197 130.022028 \nL 98.458454 128.536213 \nL 104.580711 127.050399 \nL 110.702968 125.564585 \nL 116.825225 124.078771 \nL 122.947482 122.592956 \nL 129.069739 121.107142 \nL 135.191996 119.621328 \nL 141.314254 118.135514 \nL 147.436511 116.649699 \nL 153.558768 115.163885 \nL 159.681025 113.678071 \nL 165.803282 112.192257 \nL 171.925539 110.706442 \nL 178.047796 109.220628 \nL 184.170053 107.734814 \nL 190.29231 106.249 \nL 196.414567 104.763185 \nL 202.536824 103.277371 \nL 208.659081 101.791557 \nL 214.781338 100.305743 \nL 220.903595 98.819928 \nL 227.025852 97.334114 \n\" style=\"fill:none;stroke:#bf00bf;stroke-dasharray:5.55,2.4;stroke-dashoffset:0;stroke-width:1.5;\"/>\n   </g>\n   <g id=\"patch_3\">\n    <path d=\"M 40.603125 146.6 \nL 40.603125 10.7 \n\" style=\"fill:none;stroke:#000000;stroke-linecap:square;stroke-linejoin:miter;stroke-width:0.8;\"/>\n   </g>\n   <g id=\"patch_4\">\n    <path d=\"M 235.903125 146.6 \nL 235.903125 10.7 \n\" style=\"fill:none;stroke:#000000;stroke-linecap:square;stroke-linejoin:miter;stroke-width:0.8;\"/>\n   </g>\n   <g id=\"patch_5\">\n    <path d=\"M 40.603125 146.6 \nL 235.903125 146.6 \n\" style=\"fill:none;stroke:#000000;stroke-linecap:square;stroke-linejoin:miter;stroke-width:0.8;\"/>\n   </g>\n   <g id=\"patch_6\">\n    <path d=\"M 40.603125 10.7 \nL 235.903125 10.7 \n\" style=\"fill:none;stroke:#000000;stroke-linecap:square;stroke-linejoin:miter;stroke-width:0.8;\"/>\n   </g>\n   <g id=\"legend_1\">\n    <g id=\"patch_7\">\n     <path d=\"M 47.603125 48.05625 \nL 172.153125 48.05625 \nQ 174.153125 48.05625 174.153125 46.05625 \nL 174.153125 17.7 \nQ 174.153125 15.7 172.153125 15.7 \nL 47.603125 15.7 \nQ 45.603125 15.7 45.603125 17.7 \nL 45.603125 46.05625 \nQ 45.603125 48.05625 47.603125 48.05625 \nz\n\" style=\"fill:#ffffff;opacity:0.8;stroke:#cccccc;stroke-linejoin:miter;\"/>\n    </g>\n    <g id=\"line2d_24\">\n     <path d=\"M 49.603125 23.798437 \nL 69.603125 23.798437 \n\" style=\"fill:none;stroke:#1f77b4;stroke-linecap:square;stroke-width:1.5;\"/>\n    </g>\n    <g id=\"line2d_25\"/>\n    <g id=\"text_10\">\n     <!-- f(x) -->\n     <g transform=\"translate(77.603125 27.298437)scale(0.1 -0.1)\">\n      <use xlink:href=\"#DejaVuSans-66\"/>\n      <use x=\"35.205078\" xlink:href=\"#DejaVuSans-28\"/>\n      <use x=\"74.21875\" xlink:href=\"#DejaVuSans-78\"/>\n      <use x=\"133.398438\" xlink:href=\"#DejaVuSans-29\"/>\n     </g>\n    </g>\n    <g id=\"line2d_26\">\n     <path d=\"M 49.603125 38.476562 \nL 69.603125 38.476562 \n\" style=\"fill:none;stroke:#bf00bf;stroke-dasharray:5.55,2.4;stroke-dashoffset:0;stroke-width:1.5;\"/>\n    </g>\n    <g id=\"line2d_27\"/>\n    <g id=\"text_11\">\n     <!-- Tangent line (x=1) -->\n     <g transform=\"translate(77.603125 41.976562)scale(0.1 -0.1)\">\n      <defs>\n       <path d=\"M -19 4666 \nL 3928 4666 \nL 3928 4134 \nL 2272 4134 \nL 2272 0 \nL 1638 0 \nL 1638 4134 \nL -19 4134 \nL -19 4666 \nz\n\" id=\"DejaVuSans-54\" transform=\"scale(0.015625)\"/>\n       <path d=\"M 2194 1759 \nQ 1497 1759 1228 1600 \nQ 959 1441 959 1056 \nQ 959 750 1161 570 \nQ 1363 391 1709 391 \nQ 2188 391 2477 730 \nQ 2766 1069 2766 1631 \nL 2766 1759 \nL 2194 1759 \nz\nM 3341 1997 \nL 3341 0 \nL 2766 0 \nL 2766 531 \nQ 2569 213 2275 61 \nQ 1981 -91 1556 -91 \nQ 1019 -91 701 211 \nQ 384 513 384 1019 \nQ 384 1609 779 1909 \nQ 1175 2209 1959 2209 \nL 2766 2209 \nL 2766 2266 \nQ 2766 2663 2505 2880 \nQ 2244 3097 1772 3097 \nQ 1472 3097 1187 3025 \nQ 903 2953 641 2809 \nL 641 3341 \nQ 956 3463 1253 3523 \nQ 1550 3584 1831 3584 \nQ 2591 3584 2966 3190 \nQ 3341 2797 3341 1997 \nz\n\" id=\"DejaVuSans-61\" transform=\"scale(0.015625)\"/>\n       <path d=\"M 3513 2113 \nL 3513 0 \nL 2938 0 \nL 2938 2094 \nQ 2938 2591 2744 2837 \nQ 2550 3084 2163 3084 \nQ 1697 3084 1428 2787 \nQ 1159 2491 1159 1978 \nL 1159 0 \nL 581 0 \nL 581 3500 \nL 1159 3500 \nL 1159 2956 \nQ 1366 3272 1645 3428 \nQ 1925 3584 2291 3584 \nQ 2894 3584 3203 3211 \nQ 3513 2838 3513 2113 \nz\n\" id=\"DejaVuSans-6e\" transform=\"scale(0.015625)\"/>\n       <path d=\"M 2906 1791 \nQ 2906 2416 2648 2759 \nQ 2391 3103 1925 3103 \nQ 1463 3103 1205 2759 \nQ 947 2416 947 1791 \nQ 947 1169 1205 825 \nQ 1463 481 1925 481 \nQ 2391 481 2648 825 \nQ 2906 1169 2906 1791 \nz\nM 3481 434 \nQ 3481 -459 3084 -895 \nQ 2688 -1331 1869 -1331 \nQ 1566 -1331 1297 -1286 \nQ 1028 -1241 775 -1147 \nL 775 -588 \nQ 1028 -725 1275 -790 \nQ 1522 -856 1778 -856 \nQ 2344 -856 2625 -561 \nQ 2906 -266 2906 331 \nL 2906 616 \nQ 2728 306 2450 153 \nQ 2172 0 1784 0 \nQ 1141 0 747 490 \nQ 353 981 353 1791 \nQ 353 2603 747 3093 \nQ 1141 3584 1784 3584 \nQ 2172 3584 2450 3431 \nQ 2728 3278 2906 2969 \nL 2906 3500 \nL 3481 3500 \nL 3481 434 \nz\n\" id=\"DejaVuSans-67\" transform=\"scale(0.015625)\"/>\n       <path d=\"M 3597 1894 \nL 3597 1613 \nL 953 1613 \nQ 991 1019 1311 708 \nQ 1631 397 2203 397 \nQ 2534 397 2845 478 \nQ 3156 559 3463 722 \nL 3463 178 \nQ 3153 47 2828 -22 \nQ 2503 -91 2169 -91 \nQ 1331 -91 842 396 \nQ 353 884 353 1716 \nQ 353 2575 817 3079 \nQ 1281 3584 2069 3584 \nQ 2775 3584 3186 3129 \nQ 3597 2675 3597 1894 \nz\nM 3022 2063 \nQ 3016 2534 2758 2815 \nQ 2500 3097 2075 3097 \nQ 1594 3097 1305 2825 \nQ 1016 2553 972 2059 \nL 3022 2063 \nz\n\" id=\"DejaVuSans-65\" transform=\"scale(0.015625)\"/>\n       <path d=\"M 1172 4494 \nL 1172 3500 \nL 2356 3500 \nL 2356 3053 \nL 1172 3053 \nL 1172 1153 \nQ 1172 725 1289 603 \nQ 1406 481 1766 481 \nL 2356 481 \nL 2356 0 \nL 1766 0 \nQ 1100 0 847 248 \nQ 594 497 594 1153 \nL 594 3053 \nL 172 3053 \nL 172 3500 \nL 594 3500 \nL 594 4494 \nL 1172 4494 \nz\n\" id=\"DejaVuSans-74\" transform=\"scale(0.015625)\"/>\n       <path id=\"DejaVuSans-20\" transform=\"scale(0.015625)\"/>\n       <path d=\"M 603 4863 \nL 1178 4863 \nL 1178 0 \nL 603 0 \nL 603 4863 \nz\n\" id=\"DejaVuSans-6c\" transform=\"scale(0.015625)\"/>\n       <path d=\"M 603 3500 \nL 1178 3500 \nL 1178 0 \nL 603 0 \nL 603 3500 \nz\nM 603 4863 \nL 1178 4863 \nL 1178 4134 \nL 603 4134 \nL 603 4863 \nz\n\" id=\"DejaVuSans-69\" transform=\"scale(0.015625)\"/>\n       <path d=\"M 678 2906 \nL 4684 2906 \nL 4684 2381 \nL 678 2381 \nL 678 2906 \nz\nM 678 1631 \nL 4684 1631 \nL 4684 1100 \nL 678 1100 \nL 678 1631 \nz\n\" id=\"DejaVuSans-3d\" transform=\"scale(0.015625)\"/>\n      </defs>\n      <use xlink:href=\"#DejaVuSans-54\"/>\n      <use x=\"44.583984\" xlink:href=\"#DejaVuSans-61\"/>\n      <use x=\"105.863281\" xlink:href=\"#DejaVuSans-6e\"/>\n      <use x=\"169.242188\" xlink:href=\"#DejaVuSans-67\"/>\n      <use x=\"232.71875\" xlink:href=\"#DejaVuSans-65\"/>\n      <use x=\"294.242188\" xlink:href=\"#DejaVuSans-6e\"/>\n      <use x=\"357.621094\" xlink:href=\"#DejaVuSans-74\"/>\n      <use x=\"396.830078\" xlink:href=\"#DejaVuSans-20\"/>\n      <use x=\"428.617188\" xlink:href=\"#DejaVuSans-6c\"/>\n      <use x=\"456.400391\" xlink:href=\"#DejaVuSans-69\"/>\n      <use x=\"484.183594\" xlink:href=\"#DejaVuSans-6e\"/>\n      <use x=\"547.5625\" xlink:href=\"#DejaVuSans-65\"/>\n      <use x=\"609.085938\" xlink:href=\"#DejaVuSans-20\"/>\n      <use x=\"640.873047\" xlink:href=\"#DejaVuSans-28\"/>\n      <use x=\"679.886719\" xlink:href=\"#DejaVuSans-78\"/>\n      <use x=\"739.066406\" xlink:href=\"#DejaVuSans-3d\"/>\n      <use x=\"822.855469\" xlink:href=\"#DejaVuSans-31\"/>\n      <use x=\"886.478516\" xlink:href=\"#DejaVuSans-29\"/>\n     </g>\n    </g>\n   </g>\n  </g>\n </g>\n <defs>\n  <clipPath id=\"p9190863e63\">\n   <rect height=\"135.9\" width=\"195.3\" x=\"40.603125\" y=\"10.7\"/>\n  </clipPath>\n </defs>\n</svg>\n"
     },
     "metadata": {
      "needs_background": "light"
     },
     "output_type": "display_data"
    }
   ],
   "source": [
    "import matplotlib.pyplot as plt\n",
    "\n",
    "def use_svg_display():\n",
    "    \"\"\"使用svg格式在Jupyter中显示绘图\"\"\"\n",
    "    backend_inline.set_matplotlib_formats('svg')\n",
    "\n",
    "def set_figsize(figsize=(3.5, 2.5)):\n",
    "    \"\"\"设置matplotlib的图表大小\"\"\"\n",
    "    use_svg_display()\n",
    "    plt.rcParams['figure.figsize'] = figsize\n",
    "\n",
    "def set_axes(axes, xlabel, ylabel, xlim, ylim, xscale, yscale, legend):\n",
    "    \"\"\"设置matplotlib的轴\"\"\"\n",
    "    axes.set_xlabel(xlabel)\n",
    "    axes.set_ylabel(ylabel)\n",
    "    axes.set_xscale(xscale)\n",
    "    axes.set_yscale(yscale)\n",
    "    axes.set_xlim(xlim)\n",
    "    axes.set_ylim(ylim)\n",
    "    if legend:\n",
    "        axes.legend(legend)\n",
    "    axes.grid()\n",
    "\n",
    "def plot(X, Y=None, xlabel=None, ylabel=None, legend=None, xlim=None,\n",
    "         ylim=None, xscale='linear', yscale='linear',\n",
    "         fmts=('-', 'm--', 'g-.', 'r:'), figsize=(3.5, 2.5), axes=None):\n",
    "    \"\"\"绘制数据点\"\"\"\n",
    "    if legend is None:\n",
    "        legend = []\n",
    "\n",
    "    set_figsize(figsize)\n",
    "    axes = axes if axes else plt.gca()\n",
    "\n",
    "    # 如果X有一个轴，输出True\n",
    "    def has_one_axis(X):\n",
    "        return (hasattr(X, \"ndim\") and X.ndim == 1 or isinstance(X, list)\n",
    "                and not hasattr(X[0], \"__len__\"))\n",
    "\n",
    "    if has_one_axis(X):\n",
    "        X = [X]\n",
    "    if Y is None:\n",
    "        X, Y = [[]] * len(X), X\n",
    "    elif has_one_axis(Y):\n",
    "        Y = [Y]\n",
    "    if len(X) != len(Y):\n",
    "        X = X * len(Y)\n",
    "    axes.cla()\n",
    "    for x, y, fmt in zip(X, Y, fmts):\n",
    "        if len(x):\n",
    "            axes.plot(x, y, fmt)\n",
    "        else:\n",
    "            axes.plot(y, fmt)\n",
    "    set_axes(axes, xlabel, ylabel, xlim, ylim, xscale, yscale, legend)\n",
    "\n",
    "x = np.arange(0, 3, 0.1)\n",
    "plot(x, [f(x), 2 * x - 3], 'x', 'f(x)', legend=['f(x)', 'Tangent line (x=1)'])"
   ],
   "metadata": {
    "collapsed": false,
    "pycharm": {
     "name": "#%%\n"
    }
   }
  },
  {
   "cell_type": "markdown",
   "source": [
    "## 下面是自动微分示例。"
   ],
   "metadata": {
    "collapsed": false
   }
  },
  {
   "cell_type": "code",
   "execution_count": 9,
   "outputs": [
    {
     "data": {
      "text/plain": "tensor([0., 1., 2., 3.])"
     },
     "execution_count": 9,
     "metadata": {},
     "output_type": "execute_result"
    }
   ],
   "source": [
    "x = torch.arange(4.0)\n",
    "x"
   ],
   "metadata": {
    "collapsed": false,
    "pycharm": {
     "name": "#%%\n"
    }
   }
  },
  {
   "cell_type": "code",
   "execution_count": 10,
   "outputs": [],
   "source": [
    "x.requires_grad_(True)  # 等价于x=torch.arange(4.0,requires_grad=True)，找一块空间存放梯度。\n",
    "x.grad  # 默认值是None"
   ],
   "metadata": {
    "collapsed": false,
    "pycharm": {
     "name": "#%%\n"
    }
   }
  },
  {
   "cell_type": "markdown",
   "source": [
    "## y是x的函数"
   ],
   "metadata": {
    "collapsed": false
   }
  },
  {
   "cell_type": "code",
   "execution_count": 11,
   "outputs": [
    {
     "data": {
      "text/plain": "tensor(28., grad_fn=<MulBackward0>)"
     },
     "execution_count": 11,
     "metadata": {},
     "output_type": "execute_result"
    }
   ],
   "source": [
    "y = 2 * torch.dot(x, x)\n",
    "y"
   ],
   "metadata": {
    "collapsed": false,
    "pycharm": {
     "name": "#%%\n"
    }
   }
  },
  {
   "cell_type": "markdown",
   "source": [
    "## 通过调用反向传播函数来自动计算y关于x每个分量的梯度，并打印这些梯度。"
   ],
   "metadata": {
    "collapsed": false
   }
  },
  {
   "cell_type": "code",
   "execution_count": 12,
   "outputs": [
    {
     "data": {
      "text/plain": "tensor([ 0.,  4.,  8., 12.])"
     },
     "execution_count": 12,
     "metadata": {},
     "output_type": "execute_result"
    }
   ],
   "source": [
    "y.backward()\n",
    "x.grad"
   ],
   "metadata": {
    "collapsed": false,
    "pycharm": {
     "name": "#%%\n"
    }
   }
  },
  {
   "cell_type": "code",
   "execution_count": 13,
   "outputs": [
    {
     "data": {
      "text/plain": "tensor([True, True, True, True])"
     },
     "execution_count": 13,
     "metadata": {},
     "output_type": "execute_result"
    }
   ],
   "source": [
    "x.grad == 4 * x #函数y关于x的梯度应为4x，验证这个梯度是否计算正确。"
   ],
   "metadata": {
    "collapsed": false,
    "pycharm": {
     "name": "#%%\n"
    }
   }
  },
  {
   "cell_type": "code",
   "execution_count": 14,
   "outputs": [
    {
     "data": {
      "text/plain": "tensor([1., 1., 1., 1.])"
     },
     "execution_count": 14,
     "metadata": {},
     "output_type": "execute_result"
    }
   ],
   "source": [
    "# 下面计算x的l另一个函数，在默认情况下，PyTorch会累积梯度，我们需要清除之前的值\n",
    "x.grad.zero_()\n",
    "y = x.sum()\n",
    "y.backward()\n",
    "x.grad"
   ],
   "metadata": {
    "collapsed": false,
    "pycharm": {
     "name": "#%%\n"
    }
   }
  },
  {
   "cell_type": "code",
   "execution_count": 15,
   "outputs": [
    {
     "data": {
      "text/plain": "tensor([0., 2., 4., 6.])"
     },
     "execution_count": 15,
     "metadata": {},
     "output_type": "execute_result"
    }
   ],
   "source": [
    "# 对非标量调用backward需要传入一个gradient参数，该参数指定微分函数关于self的梯度。\n",
    "# 在我们的例子中，我们只想求偏导数的和，所以传递一个1的梯度是合适的\n",
    "x.grad.zero_()\n",
    "y = x * x\n",
    "# 等价于y.backward(torch.ones(len(x)))\n",
    "y.sum().backward()\n",
    "x.grad"
   ],
   "metadata": {
    "collapsed": false,
    "pycharm": {
     "name": "#%%\n"
    }
   }
  },
  {
   "cell_type": "markdown",
   "source": [
    "## 下面的反向传播函数计算z=u*x关于x的偏导数，同时将u作为常数处理， 而不是z=x*x*x关于x的偏导数。"
   ],
   "metadata": {
    "collapsed": false
   }
  },
  {
   "cell_type": "code",
   "execution_count": 16,
   "outputs": [
    {
     "data": {
      "text/plain": "(tensor([True, True, True, True]),\n tensor([0., 1., 4., 9.]),\n tensor([0., 1., 4., 9.], grad_fn=<MulBackward0>))"
     },
     "execution_count": 16,
     "metadata": {},
     "output_type": "execute_result"
    }
   ],
   "source": [
    "x.grad.zero_()\n",
    "y = x * x\n",
    "u = y.detach()\n",
    "z = u * x\n",
    "\n",
    "z.sum().backward()\n",
    "x.grad == u , x.grad , y"
   ],
   "metadata": {
    "collapsed": false,
    "pycharm": {
     "name": "#%%\n"
    }
   }
  },
  {
   "cell_type": "code",
   "execution_count": 17,
   "outputs": [
    {
     "data": {
      "text/plain": "tensor([True, True, True, True])"
     },
     "execution_count": 17,
     "metadata": {},
     "output_type": "execute_result"
    }
   ],
   "source": [
    "x.grad.zero_()\n",
    "y.sum().backward()\n",
    "x.grad == 2 * x"
   ],
   "metadata": {
    "collapsed": false,
    "pycharm": {
     "name": "#%%\n"
    }
   }
  },
  {
   "cell_type": "markdown",
   "source": [
    "## 下面是概率部分"
   ],
   "metadata": {
    "collapsed": false
   }
  },
  {
   "cell_type": "code",
   "execution_count": 18,
   "outputs": [
    {
     "data": {
      "text/plain": "(tensor([0.1667, 0.1667, 0.1667, 0.1667, 0.1667, 0.1667]),\n tensor([0., 1., 0., 0., 0., 0.]))"
     },
     "execution_count": 18,
     "metadata": {},
     "output_type": "execute_result"
    }
   ],
   "source": [
    "from torch.distributions import multinomial\n",
    "fair_probs = torch.ones([6]) / 6  #骰子的6个面的概率\n",
    "fair_probs, multinomial.Multinomial(1, fair_probs).sample() #在索引i处的值是采样结果中i出现的次数。"
   ],
   "metadata": {
    "collapsed": false,
    "pycharm": {
     "name": "#%%\n"
    }
   }
  },
  {
   "cell_type": "code",
   "execution_count": 19,
   "outputs": [
    {
     "data": {
      "text/plain": "tensor([0.1410, 0.1840, 0.1710, 0.1630, 0.1600, 0.1810])"
     },
     "execution_count": 19,
     "metadata": {},
     "output_type": "execute_result"
    }
   ],
   "source": [
    "multinomial.Multinomial(10, fair_probs).sample() #掷骰子10次的分布情况\n",
    "counts = multinomial.Multinomial(1000, fair_probs).sample()\n",
    "counts / 1000  # 相对频率作为估计值"
   ],
   "metadata": {
    "collapsed": false,
    "pycharm": {
     "name": "#%%\n"
    }
   }
  },
  {
   "cell_type": "markdown",
   "source": [
    "因为我们是从一个公平的骰子中生成的数据，我们知道每个结果都有真实的概率，大约是六分之一，所以上面输出的估计值看起来不错。\n",
    "我们也可以看到这些概率如何随着时间的推移收敛到真实概率。 让我们进行500组实验，每组抽取10个样本。"
   ],
   "metadata": {
    "collapsed": false
   }
  },
  {
   "cell_type": "code",
   "execution_count": 21,
   "outputs": [
    {
     "data": {
      "text/plain": "<Figure size 432x324 with 1 Axes>",
      "image/svg+xml": "<?xml version=\"1.0\" encoding=\"utf-8\" standalone=\"no\"?>\n<!DOCTYPE svg PUBLIC \"-//W3C//DTD SVG 1.1//EN\"\n  \"http://www.w3.org/Graphics/SVG/1.1/DTD/svg11.dtd\">\n<svg height=\"289.37625pt\" version=\"1.1\" viewBox=\"0 0 392.14375 289.37625\" width=\"392.14375pt\" xmlns=\"http://www.w3.org/2000/svg\" xmlns:xlink=\"http://www.w3.org/1999/xlink\">\n <metadata>\n  <rdf:RDF xmlns:cc=\"http://creativecommons.org/ns#\" xmlns:dc=\"http://purl.org/dc/elements/1.1/\" xmlns:rdf=\"http://www.w3.org/1999/02/22-rdf-syntax-ns#\">\n   <cc:Work>\n    <dc:type rdf:resource=\"http://purl.org/dc/dcmitype/StillImage\"/>\n    <dc:date>2022-05-04T23:54:29.427003</dc:date>\n    <dc:format>image/svg+xml</dc:format>\n    <dc:creator>\n     <cc:Agent>\n      <dc:title>Matplotlib v3.4.2, https://matplotlib.org/</dc:title>\n     </cc:Agent>\n    </dc:creator>\n   </cc:Work>\n  </rdf:RDF>\n </metadata>\n <defs>\n  <style type=\"text/css\">*{stroke-linecap:butt;stroke-linejoin:round;}</style>\n </defs>\n <g id=\"figure_1\">\n  <g id=\"patch_1\">\n   <path d=\"M 0 289.37625 \nL 392.14375 289.37625 \nL 392.14375 0 \nL 0 0 \nz\n\" style=\"fill:none;\"/>\n  </g>\n  <g id=\"axes_1\">\n   <g id=\"patch_2\">\n    <path d=\"M 50.14375 251.82 \nL 384.94375 251.82 \nL 384.94375 7.2 \nL 50.14375 7.2 \nz\n\" style=\"fill:#ffffff;\"/>\n   </g>\n   <g id=\"matplotlib.axis_1\">\n    <g id=\"xtick_1\">\n     <g id=\"line2d_1\">\n      <defs>\n       <path d=\"M 0 0 \nL 0 3.5 \n\" id=\"mc2f71939db\" style=\"stroke:#000000;stroke-width:0.8;\"/>\n      </defs>\n      <g>\n       <use style=\"stroke:#000000;stroke-width:0.8;\" x=\"65.361932\" xlink:href=\"#mc2f71939db\" y=\"251.82\"/>\n      </g>\n     </g>\n     <g id=\"text_1\">\n      <!-- 0 -->\n      <g transform=\"translate(62.180682 266.418437)scale(0.1 -0.1)\">\n       <defs>\n        <path d=\"M 2034 4250 \nQ 1547 4250 1301 3770 \nQ 1056 3291 1056 2328 \nQ 1056 1369 1301 889 \nQ 1547 409 2034 409 \nQ 2525 409 2770 889 \nQ 3016 1369 3016 2328 \nQ 3016 3291 2770 3770 \nQ 2525 4250 2034 4250 \nz\nM 2034 4750 \nQ 2819 4750 3233 4129 \nQ 3647 3509 3647 2328 \nQ 3647 1150 3233 529 \nQ 2819 -91 2034 -91 \nQ 1250 -91 836 529 \nQ 422 1150 422 2328 \nQ 422 3509 836 4129 \nQ 1250 4750 2034 4750 \nz\n\" id=\"DejaVuSans-30\" transform=\"scale(0.015625)\"/>\n       </defs>\n       <use xlink:href=\"#DejaVuSans-30\"/>\n      </g>\n     </g>\n    </g>\n    <g id=\"xtick_2\">\n     <g id=\"line2d_2\">\n      <g>\n       <use style=\"stroke:#000000;stroke-width:0.8;\" x=\"126.356649\" xlink:href=\"#mc2f71939db\" y=\"251.82\"/>\n      </g>\n     </g>\n     <g id=\"text_2\">\n      <!-- 100 -->\n      <g transform=\"translate(116.812899 266.418437)scale(0.1 -0.1)\">\n       <defs>\n        <path d=\"M 794 531 \nL 1825 531 \nL 1825 4091 \nL 703 3866 \nL 703 4441 \nL 1819 4666 \nL 2450 4666 \nL 2450 531 \nL 3481 531 \nL 3481 0 \nL 794 0 \nL 794 531 \nz\n\" id=\"DejaVuSans-31\" transform=\"scale(0.015625)\"/>\n       </defs>\n       <use xlink:href=\"#DejaVuSans-31\"/>\n       <use x=\"63.623047\" xlink:href=\"#DejaVuSans-30\"/>\n       <use x=\"127.246094\" xlink:href=\"#DejaVuSans-30\"/>\n      </g>\n     </g>\n    </g>\n    <g id=\"xtick_3\">\n     <g id=\"line2d_3\">\n      <g>\n       <use style=\"stroke:#000000;stroke-width:0.8;\" x=\"187.351365\" xlink:href=\"#mc2f71939db\" y=\"251.82\"/>\n      </g>\n     </g>\n     <g id=\"text_3\">\n      <!-- 200 -->\n      <g transform=\"translate(177.807615 266.418437)scale(0.1 -0.1)\">\n       <defs>\n        <path d=\"M 1228 531 \nL 3431 531 \nL 3431 0 \nL 469 0 \nL 469 531 \nQ 828 903 1448 1529 \nQ 2069 2156 2228 2338 \nQ 2531 2678 2651 2914 \nQ 2772 3150 2772 3378 \nQ 2772 3750 2511 3984 \nQ 2250 4219 1831 4219 \nQ 1534 4219 1204 4116 \nQ 875 4013 500 3803 \nL 500 4441 \nQ 881 4594 1212 4672 \nQ 1544 4750 1819 4750 \nQ 2544 4750 2975 4387 \nQ 3406 4025 3406 3419 \nQ 3406 3131 3298 2873 \nQ 3191 2616 2906 2266 \nQ 2828 2175 2409 1742 \nQ 1991 1309 1228 531 \nz\n\" id=\"DejaVuSans-32\" transform=\"scale(0.015625)\"/>\n       </defs>\n       <use xlink:href=\"#DejaVuSans-32\"/>\n       <use x=\"63.623047\" xlink:href=\"#DejaVuSans-30\"/>\n       <use x=\"127.246094\" xlink:href=\"#DejaVuSans-30\"/>\n      </g>\n     </g>\n    </g>\n    <g id=\"xtick_4\">\n     <g id=\"line2d_4\">\n      <g>\n       <use style=\"stroke:#000000;stroke-width:0.8;\" x=\"248.346082\" xlink:href=\"#mc2f71939db\" y=\"251.82\"/>\n      </g>\n     </g>\n     <g id=\"text_4\">\n      <!-- 300 -->\n      <g transform=\"translate(238.802332 266.418437)scale(0.1 -0.1)\">\n       <defs>\n        <path d=\"M 2597 2516 \nQ 3050 2419 3304 2112 \nQ 3559 1806 3559 1356 \nQ 3559 666 3084 287 \nQ 2609 -91 1734 -91 \nQ 1441 -91 1130 -33 \nQ 819 25 488 141 \nL 488 750 \nQ 750 597 1062 519 \nQ 1375 441 1716 441 \nQ 2309 441 2620 675 \nQ 2931 909 2931 1356 \nQ 2931 1769 2642 2001 \nQ 2353 2234 1838 2234 \nL 1294 2234 \nL 1294 2753 \nL 1863 2753 \nQ 2328 2753 2575 2939 \nQ 2822 3125 2822 3475 \nQ 2822 3834 2567 4026 \nQ 2313 4219 1838 4219 \nQ 1578 4219 1281 4162 \nQ 984 4106 628 3988 \nL 628 4550 \nQ 988 4650 1302 4700 \nQ 1616 4750 1894 4750 \nQ 2613 4750 3031 4423 \nQ 3450 4097 3450 3541 \nQ 3450 3153 3228 2886 \nQ 3006 2619 2597 2516 \nz\n\" id=\"DejaVuSans-33\" transform=\"scale(0.015625)\"/>\n       </defs>\n       <use xlink:href=\"#DejaVuSans-33\"/>\n       <use x=\"63.623047\" xlink:href=\"#DejaVuSans-30\"/>\n       <use x=\"127.246094\" xlink:href=\"#DejaVuSans-30\"/>\n      </g>\n     </g>\n    </g>\n    <g id=\"xtick_5\">\n     <g id=\"line2d_5\">\n      <g>\n       <use style=\"stroke:#000000;stroke-width:0.8;\" x=\"309.340799\" xlink:href=\"#mc2f71939db\" y=\"251.82\"/>\n      </g>\n     </g>\n     <g id=\"text_5\">\n      <!-- 400 -->\n      <g transform=\"translate(299.797049 266.418437)scale(0.1 -0.1)\">\n       <defs>\n        <path d=\"M 2419 4116 \nL 825 1625 \nL 2419 1625 \nL 2419 4116 \nz\nM 2253 4666 \nL 3047 4666 \nL 3047 1625 \nL 3713 1625 \nL 3713 1100 \nL 3047 1100 \nL 3047 0 \nL 2419 0 \nL 2419 1100 \nL 313 1100 \nL 313 1709 \nL 2253 4666 \nz\n\" id=\"DejaVuSans-34\" transform=\"scale(0.015625)\"/>\n       </defs>\n       <use xlink:href=\"#DejaVuSans-34\"/>\n       <use x=\"63.623047\" xlink:href=\"#DejaVuSans-30\"/>\n       <use x=\"127.246094\" xlink:href=\"#DejaVuSans-30\"/>\n      </g>\n     </g>\n    </g>\n    <g id=\"xtick_6\">\n     <g id=\"line2d_6\">\n      <g>\n       <use style=\"stroke:#000000;stroke-width:0.8;\" x=\"370.335515\" xlink:href=\"#mc2f71939db\" y=\"251.82\"/>\n      </g>\n     </g>\n     <g id=\"text_6\">\n      <!-- 500 -->\n      <g transform=\"translate(360.791765 266.418437)scale(0.1 -0.1)\">\n       <defs>\n        <path d=\"M 691 4666 \nL 3169 4666 \nL 3169 4134 \nL 1269 4134 \nL 1269 2991 \nQ 1406 3038 1543 3061 \nQ 1681 3084 1819 3084 \nQ 2600 3084 3056 2656 \nQ 3513 2228 3513 1497 \nQ 3513 744 3044 326 \nQ 2575 -91 1722 -91 \nQ 1428 -91 1123 -41 \nQ 819 9 494 109 \nL 494 744 \nQ 775 591 1075 516 \nQ 1375 441 1709 441 \nQ 2250 441 2565 725 \nQ 2881 1009 2881 1497 \nQ 2881 1984 2565 2268 \nQ 2250 2553 1709 2553 \nQ 1456 2553 1204 2497 \nQ 953 2441 691 2322 \nL 691 4666 \nz\n\" id=\"DejaVuSans-35\" transform=\"scale(0.015625)\"/>\n       </defs>\n       <use xlink:href=\"#DejaVuSans-35\"/>\n       <use x=\"63.623047\" xlink:href=\"#DejaVuSans-30\"/>\n       <use x=\"127.246094\" xlink:href=\"#DejaVuSans-30\"/>\n      </g>\n     </g>\n    </g>\n    <g id=\"text_7\">\n     <!-- Groups of experiments -->\n     <g transform=\"translate(160.397656 280.096562)scale(0.1 -0.1)\">\n      <defs>\n       <path d=\"M 3809 666 \nL 3809 1919 \nL 2778 1919 \nL 2778 2438 \nL 4434 2438 \nL 4434 434 \nQ 4069 175 3628 42 \nQ 3188 -91 2688 -91 \nQ 1594 -91 976 548 \nQ 359 1188 359 2328 \nQ 359 3472 976 4111 \nQ 1594 4750 2688 4750 \nQ 3144 4750 3555 4637 \nQ 3966 4525 4313 4306 \nL 4313 3634 \nQ 3963 3931 3569 4081 \nQ 3175 4231 2741 4231 \nQ 1884 4231 1454 3753 \nQ 1025 3275 1025 2328 \nQ 1025 1384 1454 906 \nQ 1884 428 2741 428 \nQ 3075 428 3337 486 \nQ 3600 544 3809 666 \nz\n\" id=\"DejaVuSans-47\" transform=\"scale(0.015625)\"/>\n       <path d=\"M 2631 2963 \nQ 2534 3019 2420 3045 \nQ 2306 3072 2169 3072 \nQ 1681 3072 1420 2755 \nQ 1159 2438 1159 1844 \nL 1159 0 \nL 581 0 \nL 581 3500 \nL 1159 3500 \nL 1159 2956 \nQ 1341 3275 1631 3429 \nQ 1922 3584 2338 3584 \nQ 2397 3584 2469 3576 \nQ 2541 3569 2628 3553 \nL 2631 2963 \nz\n\" id=\"DejaVuSans-72\" transform=\"scale(0.015625)\"/>\n       <path d=\"M 1959 3097 \nQ 1497 3097 1228 2736 \nQ 959 2375 959 1747 \nQ 959 1119 1226 758 \nQ 1494 397 1959 397 \nQ 2419 397 2687 759 \nQ 2956 1122 2956 1747 \nQ 2956 2369 2687 2733 \nQ 2419 3097 1959 3097 \nz\nM 1959 3584 \nQ 2709 3584 3137 3096 \nQ 3566 2609 3566 1747 \nQ 3566 888 3137 398 \nQ 2709 -91 1959 -91 \nQ 1206 -91 779 398 \nQ 353 888 353 1747 \nQ 353 2609 779 3096 \nQ 1206 3584 1959 3584 \nz\n\" id=\"DejaVuSans-6f\" transform=\"scale(0.015625)\"/>\n       <path d=\"M 544 1381 \nL 544 3500 \nL 1119 3500 \nL 1119 1403 \nQ 1119 906 1312 657 \nQ 1506 409 1894 409 \nQ 2359 409 2629 706 \nQ 2900 1003 2900 1516 \nL 2900 3500 \nL 3475 3500 \nL 3475 0 \nL 2900 0 \nL 2900 538 \nQ 2691 219 2414 64 \nQ 2138 -91 1772 -91 \nQ 1169 -91 856 284 \nQ 544 659 544 1381 \nz\nM 1991 3584 \nL 1991 3584 \nz\n\" id=\"DejaVuSans-75\" transform=\"scale(0.015625)\"/>\n       <path d=\"M 1159 525 \nL 1159 -1331 \nL 581 -1331 \nL 581 3500 \nL 1159 3500 \nL 1159 2969 \nQ 1341 3281 1617 3432 \nQ 1894 3584 2278 3584 \nQ 2916 3584 3314 3078 \nQ 3713 2572 3713 1747 \nQ 3713 922 3314 415 \nQ 2916 -91 2278 -91 \nQ 1894 -91 1617 61 \nQ 1341 213 1159 525 \nz\nM 3116 1747 \nQ 3116 2381 2855 2742 \nQ 2594 3103 2138 3103 \nQ 1681 3103 1420 2742 \nQ 1159 2381 1159 1747 \nQ 1159 1113 1420 752 \nQ 1681 391 2138 391 \nQ 2594 391 2855 752 \nQ 3116 1113 3116 1747 \nz\n\" id=\"DejaVuSans-70\" transform=\"scale(0.015625)\"/>\n       <path d=\"M 2834 3397 \nL 2834 2853 \nQ 2591 2978 2328 3040 \nQ 2066 3103 1784 3103 \nQ 1356 3103 1142 2972 \nQ 928 2841 928 2578 \nQ 928 2378 1081 2264 \nQ 1234 2150 1697 2047 \nL 1894 2003 \nQ 2506 1872 2764 1633 \nQ 3022 1394 3022 966 \nQ 3022 478 2636 193 \nQ 2250 -91 1575 -91 \nQ 1294 -91 989 -36 \nQ 684 19 347 128 \nL 347 722 \nQ 666 556 975 473 \nQ 1284 391 1588 391 \nQ 1994 391 2212 530 \nQ 2431 669 2431 922 \nQ 2431 1156 2273 1281 \nQ 2116 1406 1581 1522 \nL 1381 1569 \nQ 847 1681 609 1914 \nQ 372 2147 372 2553 \nQ 372 3047 722 3315 \nQ 1072 3584 1716 3584 \nQ 2034 3584 2315 3537 \nQ 2597 3491 2834 3397 \nz\n\" id=\"DejaVuSans-73\" transform=\"scale(0.015625)\"/>\n       <path id=\"DejaVuSans-20\" transform=\"scale(0.015625)\"/>\n       <path d=\"M 2375 4863 \nL 2375 4384 \nL 1825 4384 \nQ 1516 4384 1395 4259 \nQ 1275 4134 1275 3809 \nL 1275 3500 \nL 2222 3500 \nL 2222 3053 \nL 1275 3053 \nL 1275 0 \nL 697 0 \nL 697 3053 \nL 147 3053 \nL 147 3500 \nL 697 3500 \nL 697 3744 \nQ 697 4328 969 4595 \nQ 1241 4863 1831 4863 \nL 2375 4863 \nz\n\" id=\"DejaVuSans-66\" transform=\"scale(0.015625)\"/>\n       <path d=\"M 3597 1894 \nL 3597 1613 \nL 953 1613 \nQ 991 1019 1311 708 \nQ 1631 397 2203 397 \nQ 2534 397 2845 478 \nQ 3156 559 3463 722 \nL 3463 178 \nQ 3153 47 2828 -22 \nQ 2503 -91 2169 -91 \nQ 1331 -91 842 396 \nQ 353 884 353 1716 \nQ 353 2575 817 3079 \nQ 1281 3584 2069 3584 \nQ 2775 3584 3186 3129 \nQ 3597 2675 3597 1894 \nz\nM 3022 2063 \nQ 3016 2534 2758 2815 \nQ 2500 3097 2075 3097 \nQ 1594 3097 1305 2825 \nQ 1016 2553 972 2059 \nL 3022 2063 \nz\n\" id=\"DejaVuSans-65\" transform=\"scale(0.015625)\"/>\n       <path d=\"M 3513 3500 \nL 2247 1797 \nL 3578 0 \nL 2900 0 \nL 1881 1375 \nL 863 0 \nL 184 0 \nL 1544 1831 \nL 300 3500 \nL 978 3500 \nL 1906 2253 \nL 2834 3500 \nL 3513 3500 \nz\n\" id=\"DejaVuSans-78\" transform=\"scale(0.015625)\"/>\n       <path d=\"M 603 3500 \nL 1178 3500 \nL 1178 0 \nL 603 0 \nL 603 3500 \nz\nM 603 4863 \nL 1178 4863 \nL 1178 4134 \nL 603 4134 \nL 603 4863 \nz\n\" id=\"DejaVuSans-69\" transform=\"scale(0.015625)\"/>\n       <path d=\"M 3328 2828 \nQ 3544 3216 3844 3400 \nQ 4144 3584 4550 3584 \nQ 5097 3584 5394 3201 \nQ 5691 2819 5691 2113 \nL 5691 0 \nL 5113 0 \nL 5113 2094 \nQ 5113 2597 4934 2840 \nQ 4756 3084 4391 3084 \nQ 3944 3084 3684 2787 \nQ 3425 2491 3425 1978 \nL 3425 0 \nL 2847 0 \nL 2847 2094 \nQ 2847 2600 2669 2842 \nQ 2491 3084 2119 3084 \nQ 1678 3084 1418 2786 \nQ 1159 2488 1159 1978 \nL 1159 0 \nL 581 0 \nL 581 3500 \nL 1159 3500 \nL 1159 2956 \nQ 1356 3278 1631 3431 \nQ 1906 3584 2284 3584 \nQ 2666 3584 2933 3390 \nQ 3200 3197 3328 2828 \nz\n\" id=\"DejaVuSans-6d\" transform=\"scale(0.015625)\"/>\n       <path d=\"M 3513 2113 \nL 3513 0 \nL 2938 0 \nL 2938 2094 \nQ 2938 2591 2744 2837 \nQ 2550 3084 2163 3084 \nQ 1697 3084 1428 2787 \nQ 1159 2491 1159 1978 \nL 1159 0 \nL 581 0 \nL 581 3500 \nL 1159 3500 \nL 1159 2956 \nQ 1366 3272 1645 3428 \nQ 1925 3584 2291 3584 \nQ 2894 3584 3203 3211 \nQ 3513 2838 3513 2113 \nz\n\" id=\"DejaVuSans-6e\" transform=\"scale(0.015625)\"/>\n       <path d=\"M 1172 4494 \nL 1172 3500 \nL 2356 3500 \nL 2356 3053 \nL 1172 3053 \nL 1172 1153 \nQ 1172 725 1289 603 \nQ 1406 481 1766 481 \nL 2356 481 \nL 2356 0 \nL 1766 0 \nQ 1100 0 847 248 \nQ 594 497 594 1153 \nL 594 3053 \nL 172 3053 \nL 172 3500 \nL 594 3500 \nL 594 4494 \nL 1172 4494 \nz\n\" id=\"DejaVuSans-74\" transform=\"scale(0.015625)\"/>\n      </defs>\n      <use xlink:href=\"#DejaVuSans-47\"/>\n      <use x=\"77.490234\" xlink:href=\"#DejaVuSans-72\"/>\n      <use x=\"116.353516\" xlink:href=\"#DejaVuSans-6f\"/>\n      <use x=\"177.535156\" xlink:href=\"#DejaVuSans-75\"/>\n      <use x=\"240.914062\" xlink:href=\"#DejaVuSans-70\"/>\n      <use x=\"304.390625\" xlink:href=\"#DejaVuSans-73\"/>\n      <use x=\"356.490234\" xlink:href=\"#DejaVuSans-20\"/>\n      <use x=\"388.277344\" xlink:href=\"#DejaVuSans-6f\"/>\n      <use x=\"449.458984\" xlink:href=\"#DejaVuSans-66\"/>\n      <use x=\"484.664062\" xlink:href=\"#DejaVuSans-20\"/>\n      <use x=\"516.451172\" xlink:href=\"#DejaVuSans-65\"/>\n      <use x=\"576.224609\" xlink:href=\"#DejaVuSans-78\"/>\n      <use x=\"635.404297\" xlink:href=\"#DejaVuSans-70\"/>\n      <use x=\"698.880859\" xlink:href=\"#DejaVuSans-65\"/>\n      <use x=\"760.404297\" xlink:href=\"#DejaVuSans-72\"/>\n      <use x=\"801.517578\" xlink:href=\"#DejaVuSans-69\"/>\n      <use x=\"829.300781\" xlink:href=\"#DejaVuSans-6d\"/>\n      <use x=\"926.712891\" xlink:href=\"#DejaVuSans-65\"/>\n      <use x=\"988.236328\" xlink:href=\"#DejaVuSans-6e\"/>\n      <use x=\"1051.615234\" xlink:href=\"#DejaVuSans-74\"/>\n      <use x=\"1090.824219\" xlink:href=\"#DejaVuSans-73\"/>\n     </g>\n    </g>\n   </g>\n   <g id=\"matplotlib.axis_2\">\n    <g id=\"ytick_1\">\n     <g id=\"line2d_7\">\n      <defs>\n       <path d=\"M 0 0 \nL -3.5 0 \n\" id=\"mb1740e7a52\" style=\"stroke:#000000;stroke-width:0.8;\"/>\n      </defs>\n      <g>\n       <use style=\"stroke:#000000;stroke-width:0.8;\" x=\"50.14375\" xlink:href=\"#mb1740e7a52\" y=\"240.700909\"/>\n      </g>\n     </g>\n     <g id=\"text_8\">\n      <!-- 0.00 -->\n      <g transform=\"translate(20.878125 244.500128)scale(0.1 -0.1)\">\n       <defs>\n        <path d=\"M 684 794 \nL 1344 794 \nL 1344 0 \nL 684 0 \nL 684 794 \nz\n\" id=\"DejaVuSans-2e\" transform=\"scale(0.015625)\"/>\n       </defs>\n       <use xlink:href=\"#DejaVuSans-30\"/>\n       <use x=\"63.623047\" xlink:href=\"#DejaVuSans-2e\"/>\n       <use x=\"95.410156\" xlink:href=\"#DejaVuSans-30\"/>\n       <use x=\"159.033203\" xlink:href=\"#DejaVuSans-30\"/>\n      </g>\n     </g>\n    </g>\n    <g id=\"ytick_2\">\n     <g id=\"line2d_8\">\n      <g>\n       <use style=\"stroke:#000000;stroke-width:0.8;\" x=\"50.14375\" xlink:href=\"#mb1740e7a52\" y=\"208.932077\"/>\n      </g>\n     </g>\n     <g id=\"text_9\">\n      <!-- 0.05 -->\n      <g transform=\"translate(20.878125 212.731296)scale(0.1 -0.1)\">\n       <use xlink:href=\"#DejaVuSans-30\"/>\n       <use x=\"63.623047\" xlink:href=\"#DejaVuSans-2e\"/>\n       <use x=\"95.410156\" xlink:href=\"#DejaVuSans-30\"/>\n       <use x=\"159.033203\" xlink:href=\"#DejaVuSans-35\"/>\n      </g>\n     </g>\n    </g>\n    <g id=\"ytick_3\">\n     <g id=\"line2d_9\">\n      <g>\n       <use style=\"stroke:#000000;stroke-width:0.8;\" x=\"50.14375\" xlink:href=\"#mb1740e7a52\" y=\"177.163246\"/>\n      </g>\n     </g>\n     <g id=\"text_10\">\n      <!-- 0.10 -->\n      <g transform=\"translate(20.878125 180.962464)scale(0.1 -0.1)\">\n       <use xlink:href=\"#DejaVuSans-30\"/>\n       <use x=\"63.623047\" xlink:href=\"#DejaVuSans-2e\"/>\n       <use x=\"95.410156\" xlink:href=\"#DejaVuSans-31\"/>\n       <use x=\"159.033203\" xlink:href=\"#DejaVuSans-30\"/>\n      </g>\n     </g>\n    </g>\n    <g id=\"ytick_4\">\n     <g id=\"line2d_10\">\n      <g>\n       <use style=\"stroke:#000000;stroke-width:0.8;\" x=\"50.14375\" xlink:href=\"#mb1740e7a52\" y=\"145.394414\"/>\n      </g>\n     </g>\n     <g id=\"text_11\">\n      <!-- 0.15 -->\n      <g transform=\"translate(20.878125 149.193633)scale(0.1 -0.1)\">\n       <use xlink:href=\"#DejaVuSans-30\"/>\n       <use x=\"63.623047\" xlink:href=\"#DejaVuSans-2e\"/>\n       <use x=\"95.410156\" xlink:href=\"#DejaVuSans-31\"/>\n       <use x=\"159.033203\" xlink:href=\"#DejaVuSans-35\"/>\n      </g>\n     </g>\n    </g>\n    <g id=\"ytick_5\">\n     <g id=\"line2d_11\">\n      <g>\n       <use style=\"stroke:#000000;stroke-width:0.8;\" x=\"50.14375\" xlink:href=\"#mb1740e7a52\" y=\"113.625582\"/>\n      </g>\n     </g>\n     <g id=\"text_12\">\n      <!-- 0.20 -->\n      <g transform=\"translate(20.878125 117.424801)scale(0.1 -0.1)\">\n       <use xlink:href=\"#DejaVuSans-30\"/>\n       <use x=\"63.623047\" xlink:href=\"#DejaVuSans-2e\"/>\n       <use x=\"95.410156\" xlink:href=\"#DejaVuSans-32\"/>\n       <use x=\"159.033203\" xlink:href=\"#DejaVuSans-30\"/>\n      </g>\n     </g>\n    </g>\n    <g id=\"ytick_6\">\n     <g id=\"line2d_12\">\n      <g>\n       <use style=\"stroke:#000000;stroke-width:0.8;\" x=\"50.14375\" xlink:href=\"#mb1740e7a52\" y=\"81.856751\"/>\n      </g>\n     </g>\n     <g id=\"text_13\">\n      <!-- 0.25 -->\n      <g transform=\"translate(20.878125 85.655969)scale(0.1 -0.1)\">\n       <use xlink:href=\"#DejaVuSans-30\"/>\n       <use x=\"63.623047\" xlink:href=\"#DejaVuSans-2e\"/>\n       <use x=\"95.410156\" xlink:href=\"#DejaVuSans-32\"/>\n       <use x=\"159.033203\" xlink:href=\"#DejaVuSans-35\"/>\n      </g>\n     </g>\n    </g>\n    <g id=\"ytick_7\">\n     <g id=\"line2d_13\">\n      <g>\n       <use style=\"stroke:#000000;stroke-width:0.8;\" x=\"50.14375\" xlink:href=\"#mb1740e7a52\" y=\"50.087919\"/>\n      </g>\n     </g>\n     <g id=\"text_14\">\n      <!-- 0.30 -->\n      <g transform=\"translate(20.878125 53.887138)scale(0.1 -0.1)\">\n       <use xlink:href=\"#DejaVuSans-30\"/>\n       <use x=\"63.623047\" xlink:href=\"#DejaVuSans-2e\"/>\n       <use x=\"95.410156\" xlink:href=\"#DejaVuSans-33\"/>\n       <use x=\"159.033203\" xlink:href=\"#DejaVuSans-30\"/>\n      </g>\n     </g>\n    </g>\n    <g id=\"ytick_8\">\n     <g id=\"line2d_14\">\n      <g>\n       <use style=\"stroke:#000000;stroke-width:0.8;\" x=\"50.14375\" xlink:href=\"#mb1740e7a52\" y=\"18.319087\"/>\n      </g>\n     </g>\n     <g id=\"text_15\">\n      <!-- 0.35 -->\n      <g transform=\"translate(20.878125 22.118306)scale(0.1 -0.1)\">\n       <use xlink:href=\"#DejaVuSans-30\"/>\n       <use x=\"63.623047\" xlink:href=\"#DejaVuSans-2e\"/>\n       <use x=\"95.410156\" xlink:href=\"#DejaVuSans-33\"/>\n       <use x=\"159.033203\" xlink:href=\"#DejaVuSans-35\"/>\n      </g>\n     </g>\n    </g>\n    <g id=\"text_16\">\n     <!-- Estimated probability -->\n     <g transform=\"translate(14.798438 183.033437)rotate(-90)scale(0.1 -0.1)\">\n      <defs>\n       <path d=\"M 628 4666 \nL 3578 4666 \nL 3578 4134 \nL 1259 4134 \nL 1259 2753 \nL 3481 2753 \nL 3481 2222 \nL 1259 2222 \nL 1259 531 \nL 3634 531 \nL 3634 0 \nL 628 0 \nL 628 4666 \nz\n\" id=\"DejaVuSans-45\" transform=\"scale(0.015625)\"/>\n       <path d=\"M 2194 1759 \nQ 1497 1759 1228 1600 \nQ 959 1441 959 1056 \nQ 959 750 1161 570 \nQ 1363 391 1709 391 \nQ 2188 391 2477 730 \nQ 2766 1069 2766 1631 \nL 2766 1759 \nL 2194 1759 \nz\nM 3341 1997 \nL 3341 0 \nL 2766 0 \nL 2766 531 \nQ 2569 213 2275 61 \nQ 1981 -91 1556 -91 \nQ 1019 -91 701 211 \nQ 384 513 384 1019 \nQ 384 1609 779 1909 \nQ 1175 2209 1959 2209 \nL 2766 2209 \nL 2766 2266 \nQ 2766 2663 2505 2880 \nQ 2244 3097 1772 3097 \nQ 1472 3097 1187 3025 \nQ 903 2953 641 2809 \nL 641 3341 \nQ 956 3463 1253 3523 \nQ 1550 3584 1831 3584 \nQ 2591 3584 2966 3190 \nQ 3341 2797 3341 1997 \nz\n\" id=\"DejaVuSans-61\" transform=\"scale(0.015625)\"/>\n       <path d=\"M 2906 2969 \nL 2906 4863 \nL 3481 4863 \nL 3481 0 \nL 2906 0 \nL 2906 525 \nQ 2725 213 2448 61 \nQ 2172 -91 1784 -91 \nQ 1150 -91 751 415 \nQ 353 922 353 1747 \nQ 353 2572 751 3078 \nQ 1150 3584 1784 3584 \nQ 2172 3584 2448 3432 \nQ 2725 3281 2906 2969 \nz\nM 947 1747 \nQ 947 1113 1208 752 \nQ 1469 391 1925 391 \nQ 2381 391 2643 752 \nQ 2906 1113 2906 1747 \nQ 2906 2381 2643 2742 \nQ 2381 3103 1925 3103 \nQ 1469 3103 1208 2742 \nQ 947 2381 947 1747 \nz\n\" id=\"DejaVuSans-64\" transform=\"scale(0.015625)\"/>\n       <path d=\"M 3116 1747 \nQ 3116 2381 2855 2742 \nQ 2594 3103 2138 3103 \nQ 1681 3103 1420 2742 \nQ 1159 2381 1159 1747 \nQ 1159 1113 1420 752 \nQ 1681 391 2138 391 \nQ 2594 391 2855 752 \nQ 3116 1113 3116 1747 \nz\nM 1159 2969 \nQ 1341 3281 1617 3432 \nQ 1894 3584 2278 3584 \nQ 2916 3584 3314 3078 \nQ 3713 2572 3713 1747 \nQ 3713 922 3314 415 \nQ 2916 -91 2278 -91 \nQ 1894 -91 1617 61 \nQ 1341 213 1159 525 \nL 1159 0 \nL 581 0 \nL 581 4863 \nL 1159 4863 \nL 1159 2969 \nz\n\" id=\"DejaVuSans-62\" transform=\"scale(0.015625)\"/>\n       <path d=\"M 603 4863 \nL 1178 4863 \nL 1178 0 \nL 603 0 \nL 603 4863 \nz\n\" id=\"DejaVuSans-6c\" transform=\"scale(0.015625)\"/>\n       <path d=\"M 2059 -325 \nQ 1816 -950 1584 -1140 \nQ 1353 -1331 966 -1331 \nL 506 -1331 \nL 506 -850 \nL 844 -850 \nQ 1081 -850 1212 -737 \nQ 1344 -625 1503 -206 \nL 1606 56 \nL 191 3500 \nL 800 3500 \nL 1894 763 \nL 2988 3500 \nL 3597 3500 \nL 2059 -325 \nz\n\" id=\"DejaVuSans-79\" transform=\"scale(0.015625)\"/>\n      </defs>\n      <use xlink:href=\"#DejaVuSans-45\"/>\n      <use x=\"63.183594\" xlink:href=\"#DejaVuSans-73\"/>\n      <use x=\"115.283203\" xlink:href=\"#DejaVuSans-74\"/>\n      <use x=\"154.492188\" xlink:href=\"#DejaVuSans-69\"/>\n      <use x=\"182.275391\" xlink:href=\"#DejaVuSans-6d\"/>\n      <use x=\"279.6875\" xlink:href=\"#DejaVuSans-61\"/>\n      <use x=\"340.966797\" xlink:href=\"#DejaVuSans-74\"/>\n      <use x=\"380.175781\" xlink:href=\"#DejaVuSans-65\"/>\n      <use x=\"441.699219\" xlink:href=\"#DejaVuSans-64\"/>\n      <use x=\"505.175781\" xlink:href=\"#DejaVuSans-20\"/>\n      <use x=\"536.962891\" xlink:href=\"#DejaVuSans-70\"/>\n      <use x=\"600.439453\" xlink:href=\"#DejaVuSans-72\"/>\n      <use x=\"639.302734\" xlink:href=\"#DejaVuSans-6f\"/>\n      <use x=\"700.484375\" xlink:href=\"#DejaVuSans-62\"/>\n      <use x=\"763.960938\" xlink:href=\"#DejaVuSans-61\"/>\n      <use x=\"825.240234\" xlink:href=\"#DejaVuSans-62\"/>\n      <use x=\"888.716797\" xlink:href=\"#DejaVuSans-69\"/>\n      <use x=\"916.5\" xlink:href=\"#DejaVuSans-6c\"/>\n      <use x=\"944.283203\" xlink:href=\"#DejaVuSans-69\"/>\n      <use x=\"972.066406\" xlink:href=\"#DejaVuSans-74\"/>\n      <use x=\"1011.275391\" xlink:href=\"#DejaVuSans-79\"/>\n     </g>\n    </g>\n   </g>\n   <g id=\"line2d_15\">\n    <path clip-path=\"url(#pf0a1004df2)\" d=\"M 65.361932 177.163245 \nL 65.971879 208.932077 \nL 66.581826 177.163245 \nL 67.191773 177.163245 \nL 67.80172 164.455715 \nL 68.411668 166.573635 \nL 69.021615 168.086436 \nL 69.631562 169.22104 \nL 70.241509 155.98402 \nL 70.851456 164.455715 \nL 71.461403 159.834793 \nL 72.681298 133.175629 \nL 73.901192 122.09727 \nL 75.121086 113.62558 \nL 75.731034 117.15545 \nL 77.560875 116.651183 \nL 78.780769 121.913102 \nL 80.000664 126.33311 \nL 80.610611 130.731873 \nL 81.220558 132.451557 \nL 81.830505 131.779197 \nL 82.440452 135.535122 \nL 83.0504 134.8048 \nL 84.270294 141.42331 \nL 84.880241 140.580955 \nL 86.710083 133.03987 \nL 87.929977 132.018062 \nL 88.539924 133.175629 \nL 89.759819 132.221971 \nL 90.979713 134.312264 \nL 91.58966 136.730192 \nL 92.809554 138.488144 \nL 93.419502 135.255423 \nL 94.029449 137.45221 \nL 94.639396 136.965951 \nL 95.249343 135.228392 \nL 95.85929 136.050637 \nL 96.469237 134.397512 \nL 97.079185 134.005591 \nL 97.689132 134.8048 \nL 98.299079 136.730192 \nL 98.909026 134.048404 \nL 99.518973 133.690103 \nL 100.12892 132.248689 \nL 100.738868 131.93304 \nL 101.348815 132.68688 \nL 102.568709 132.072 \nL 103.788603 135.46665 \nL 104.398551 134.153138 \nL 105.008498 133.842109 \nL 105.618445 134.488697 \nL 107.448286 130.871524 \nL 108.058234 130.628617 \nL 108.668181 131.27493 \nL 109.278128 130.16278 \nL 109.888075 130.797921 \nL 110.498022 129.721786 \nL 111.107969 130.346021 \nL 111.717917 131.779197 \nL 112.937811 132.928159 \nL 113.547758 132.68688 \nL 114.157705 133.235968 \nL 114.767652 132.99682 \nL 115.987547 134.048404 \nL 116.597494 133.808139 \nL 117.207441 132.834645 \nL 117.817388 133.344167 \nL 120.867124 132.272501 \nL 121.477071 133.4384 \nL 122.087018 132.551698 \nL 122.696966 133.021294 \nL 123.306913 130.8337 \nL 123.91686 130.656291 \nL 124.526807 129.83417 \nL 125.136754 130.312239 \nL 125.746701 129.51 \nL 126.966596 129.198536 \nL 127.576543 130.28109 \nL 128.18649 130.731873 \nL 128.796437 131.779197 \nL 130.016332 132.627498 \nL 130.626279 133.628183 \nL 131.236226 133.444668 \nL 131.846173 134.419724 \nL 132.45612 133.087569 \nL 133.066067 133.4811 \nL 133.676015 132.74311 \nL 134.285962 133.132759 \nL 135.505856 134.987378 \nL 136.115803 135.347857 \nL 136.72575 135.163774 \nL 137.335698 134.448847 \nL 137.945645 134.8048 \nL 138.555592 134.629768 \nL 139.165539 133.936807 \nL 139.775486 133.771668 \nL 140.385433 134.634 \nL 142.825222 135.96304 \nL 143.435169 136.774965 \nL 144.045116 136.596894 \nL 145.874958 137.511924 \nL 146.484905 137.333663 \nL 147.094852 136.687397 \nL 148.314747 137.278285 \nL 148.924694 137.106889 \nL 149.534641 137.395071 \nL 150.144588 138.132967 \nL 152.584377 139.21714 \nL 153.194324 139.04065 \nL 153.804271 138.431384 \nL 155.634113 137.931936 \nL 156.24406 138.193476 \nL 156.854007 137.610001 \nL 158.073901 137.296473 \nL 158.683848 137.555353 \nL 160.51369 137.098093 \nL 162.343531 139.04065 \nL 162.953479 139.277431 \nL 164.78332 138.808195 \nL 165.393267 139.425726 \nL 166.003214 138.887545 \nL 166.613162 138.736277 \nL 167.223109 138.208606 \nL 167.833056 138.815069 \nL 168.443003 137.919391 \nL 169.05295 138.520458 \nL 169.662897 138.375723 \nL 170.272845 137.865387 \nL 170.882792 138.091233 \nL 171.492739 137.951431 \nL 172.712633 139.112445 \nL 173.32258 138.969253 \nL 174.542475 140.09961 \nL 175.152422 140.304381 \nL 176.372316 140.012809 \nL 176.982263 139.178776 \nL 178.812105 140.807474 \nL 179.422052 140.66289 \nL 180.031999 141.19219 \nL 180.641946 140.712691 \nL 181.251894 141.236187 \nL 181.861841 141.09238 \nL 182.471788 140.620862 \nL 183.081735 140.481704 \nL 183.691682 140.669821 \nL 184.301629 140.207667 \nL 184.911577 140.717785 \nL 185.521524 140.260062 \nL 186.131471 139.487646 \nL 187.351365 139.23031 \nL 187.961312 139.418095 \nL 188.57126 138.978048 \nL 189.181207 139.165228 \nL 189.791154 139.660529 \nL 190.401101 139.225708 \nL 191.011048 139.408978 \nL 192.230943 139.162255 \nL 192.84089 139.343204 \nL 193.450837 138.619075 \nL 194.060784 138.800886 \nL 194.670731 138.682689 \nL 195.280678 138.862503 \nL 195.890626 138.4496 \nL 196.500573 137.746366 \nL 197.11052 138.22081 \nL 198.940361 138.751843 \nL 199.550309 139.213145 \nL 200.160256 139.384096 \nL 200.770203 139.268588 \nL 201.990097 139.605426 \nL 202.600044 140.052754 \nL 203.209992 139.376531 \nL 203.819939 139.263589 \nL 204.429886 139.429087 \nL 205.039833 139.04065 \nL 205.64978 138.930624 \nL 206.259727 139.095421 \nL 206.869675 139.531501 \nL 207.479622 139.692313 \nL 208.089569 140.122143 \nL 209.309463 139.898541 \nL 209.91941 140.055111 \nL 210.529358 139.678679 \nL 211.139305 139.83487 \nL 211.749252 139.726113 \nL 212.359199 138.830606 \nL 212.969146 138.726885 \nL 213.579093 138.884411 \nL 214.189041 138.781307 \nL 214.798988 139.19562 \nL 215.408935 139.34933 \nL 216.018882 138.73321 \nL 216.628829 138.3772 \nL 217.238776 138.278194 \nL 217.848724 137.926843 \nL 218.458671 137.830403 \nL 219.068618 137.985875 \nL 219.678565 138.390265 \nL 220.288512 138.043979 \nL 220.898459 137.45221 \nL 221.508407 137.85395 \nL 222.118354 138.006316 \nL 222.728301 138.40282 \nL 223.338248 138.307516 \nL 225.16809 138.750744 \nL 225.778037 138.414901 \nL 226.387984 137.841821 \nL 226.997931 138.228517 \nL 227.607878 138.374331 \nL 228.217825 138.044907 \nL 229.43772 138.805326 \nL 230.657614 139.087364 \nL 231.267561 139.459574 \nL 231.877508 138.90151 \nL 233.097403 138.718355 \nL 233.70735 138.398389 \nL 234.317297 138.309277 \nL 234.927244 137.99307 \nL 236.757086 137.73384 \nL 237.367033 137.199627 \nL 238.586927 137.480074 \nL 239.196874 137.396662 \nL 242.856557 139.519354 \nL 243.466505 139.430981 \nL 244.076452 139.559327 \nL 244.686399 139.471409 \nL 245.296346 139.813406 \nL 245.906293 139.297361 \nL 246.51624 138.571575 \nL 247.126188 138.275648 \nL 248.346082 138.111854 \nL 248.956029 138.241166 \nL 249.565976 137.740534 \nL 250.785871 137.999044 \nL 251.395818 137.504113 \nL 252.005765 137.633301 \nL 253.835606 137.40097 \nL 254.445554 136.915913 \nL 255.055501 136.637624 \nL 255.665448 136.564097 \nL 257.495289 137.552739 \nL 258.715184 137.402257 \nL 259.325131 137.128542 \nL 260.545025 137.773852 \nL 261.76492 138.017753 \nL 262.374867 137.942465 \nL 262.984814 138.063142 \nL 263.594761 137.79328 \nL 264.204708 137.913682 \nL 264.814655 137.839634 \nL 265.424603 137.379781 \nL 266.03455 137.500344 \nL 266.644497 137.812121 \nL 267.864391 137.666865 \nL 268.474338 137.785109 \nL 269.084286 137.712992 \nL 269.694233 137.074007 \nL 270.30418 137.192961 \nL 270.914127 136.935256 \nL 271.524074 137.053926 \nL 272.134021 136.798142 \nL 272.743969 136.916519 \nL 273.353916 136.476851 \nL 273.963863 136.410226 \nL 274.57381 136.528697 \nL 275.183757 136.830645 \nL 276.403652 136.696893 \nL 277.013599 136.813177 \nL 277.623546 136.746741 \nL 278.233493 136.862211 \nL 278.84344 136.796012 \nL 279.453387 136.549687 \nL 280.063335 136.664731 \nL 280.673282 136.958622 \nL 281.283229 136.713916 \nL 281.893176 136.649062 \nL 282.503123 136.40659 \nL 283.11307 136.697916 \nL 283.723018 136.81063 \nL 284.332965 137.09922 \nL 284.942912 137.210202 \nL 285.552859 136.969529 \nL 286.162806 136.905224 \nL 286.772753 137.015818 \nL 287.382701 136.951739 \nL 287.992648 136.714409 \nL 288.602595 136.824624 \nL 289.212542 137.106889 \nL 291.042384 136.917021 \nL 291.652331 136.51281 \nL 292.262278 136.621785 \nL 293.482172 135.821411 \nL 295.312014 135.645252 \nL 296.531908 135.194951 \nL 297.141855 135.138334 \nL 297.751802 135.24835 \nL 298.36175 134.860102 \nL 298.971697 134.97027 \nL 299.581644 134.419724 \nL 302.021433 134.205902 \nL 302.63138 133.990215 \nL 303.241327 133.938132 \nL 303.851274 133.237975 \nL 304.461221 133.349743 \nL 305.681116 133.249876 \nL 306.291063 133.360764 \nL 307.510957 133.900166 \nL 308.120904 133.371623 \nL 308.730851 133.163416 \nL 309.950746 133.698425 \nL 310.560693 133.490956 \nL 311.17064 133.59906 \nL 311.780587 133.39286 \nL 312.390534 133.657164 \nL 313.610429 133.870428 \nL 314.220376 133.82093 \nL 314.830323 133.926638 \nL 315.44027 133.722653 \nL 316.050217 133.673875 \nL 317.880059 134.447559 \nL 318.490006 134.550248 \nL 319.7099 135.058141 \nL 320.929795 135.258642 \nL 322.149689 135.156114 \nL 322.759636 135.255423 \nL 323.369583 135.20441 \nL 325.199425 135.499201 \nL 325.809372 135.448093 \nL 326.419319 135.545338 \nL 327.029266 135.346598 \nL 327.639214 135.296201 \nL 328.249161 135.393113 \nL 329.469055 135.292802 \nL 330.079002 135.535122 \nL 330.688949 135.339137 \nL 331.298897 135.434848 \nL 331.908844 135.385056 \nL 332.518791 135.480227 \nL 333.128738 135.141742 \nL 333.738685 135.237036 \nL 334.348632 135.044384 \nL 334.95858 135.13946 \nL 336.178474 135.613894 \nL 336.788421 135.707058 \nL 337.398368 135.515514 \nL 338.008315 135.608479 \nL 338.618263 135.842533 \nL 339.22821 135.793168 \nL 339.838157 135.321366 \nL 341.058051 135.22558 \nL 342.887893 135.501492 \nL 343.49784 135.314587 \nL 344.107787 135.267229 \nL 344.717734 135.081659 \nL 345.327681 135.035011 \nL 345.937629 135.264218 \nL 346.547576 135.07986 \nL 347.157523 135.033525 \nL 347.76747 135.261255 \nL 348.987365 134.895701 \nL 350.207259 134.8048 \nL 351.427153 135.255423 \nL 352.0371 135.344401 \nL 352.647048 135.163774 \nL 353.256995 135.118233 \nL 353.866942 135.206938 \nL 354.476889 135.02774 \nL 355.086836 135.116264 \nL 355.696783 134.8048 \nL 356.916678 134.716371 \nL 357.526625 134.40769 \nL 358.136572 134.496584 \nL 358.746519 134.321457 \nL 359.356466 134.278615 \nL 359.966414 133.710838 \nL 360.576361 133.800432 \nL 361.796255 133.717579 \nL 362.406202 133.806605 \nL 363.016149 133.765334 \nL 363.626097 133.335229 \nL 365.455938 133.21529 \nL 366.065885 133.30425 \nL 366.675832 133.264495 \nL 367.28578 133.0968 \nL 368.505674 133.273773 \nL 369.115621 133.489063 \nL 369.725568 133.576413 \nL 369.725568 133.576413 \n\" style=\"fill:none;stroke:#1f77b4;stroke-linecap:square;stroke-width:1.5;\"/>\n   </g>\n   <g id=\"line2d_16\">\n    <path clip-path=\"url(#pf0a1004df2)\" d=\"M 65.361932 240.700909 \nL 65.971879 208.932077 \nL 66.581826 198.342465 \nL 67.191773 177.163245 \nL 67.80172 189.870779 \nL 68.411668 177.163245 \nL 69.021615 149.932814 \nL 69.631562 145.39441 \nL 70.241509 141.86454 \nL 70.851456 132.68688 \nL 71.461403 130.954036 \nL 72.071351 134.8048 \nL 72.681298 142.950654 \nL 73.291245 145.39441 \nL 73.901192 139.04065 \nL 74.511139 137.45221 \nL 75.731034 148.92428 \nL 76.950928 139.04065 \nL 78.170822 130.954036 \nL 79.390717 134.8048 \nL 80.000664 139.04065 \nL 80.610611 140.506898 \nL 81.220558 139.511297 \nL 82.440452 142.107987 \nL 83.0504 145.39441 \nL 83.660347 140.27041 \nL 84.270294 141.42331 \nL 86.100135 139.04065 \nL 87.929977 142.050328 \nL 88.539924 139.692313 \nL 89.149871 135.86376 \nL 89.759819 136.871073 \nL 90.369766 134.8048 \nL 90.979713 134.312264 \nL 91.58966 135.286146 \nL 92.199607 134.8048 \nL 92.809554 132.963133 \nL 93.419502 135.255423 \nL 95.249343 133.957636 \nL 96.469237 138.063142 \nL 97.079185 138.800886 \nL 97.689132 140.687923 \nL 98.299079 139.04065 \nL 98.909026 140.856006 \nL 99.518973 140.378287 \nL 101.348815 142.21753 \nL 101.958762 141.748815 \nL 102.568709 140.27041 \nL 103.178656 140.856006 \nL 104.398551 143.928162 \nL 105.008498 144.431719 \nL 105.618445 143.023604 \nL 106.838339 142.171488 \nL 107.448286 143.579054 \nL 108.058234 144.052068 \nL 109.278128 146.699979 \nL 111.107969 147.902481 \nL 112.937811 146.600823 \nL 114.157705 147.355457 \nL 114.767652 146.169259 \nL 115.3776 144.24614 \nL 115.987547 143.881609 \nL 117.207441 146.133224 \nL 117.817388 145.759576 \nL 118.427335 144.672392 \nL 119.037283 144.323559 \nL 119.64723 143.27649 \nL 120.257177 142.950654 \nL 120.867124 143.322532 \nL 121.477071 144.36961 \nL 122.087018 144.042553 \nL 122.696966 145.060006 \nL 123.306913 145.39441 \nL 123.91686 145.066898 \nL 125.746701 142.21753 \nL 126.966596 142.902737 \nL 127.576543 142.001625 \nL 128.18649 142.339722 \nL 128.796437 141.461134 \nL 130.016332 142.128457 \nL 132.45612 141.101327 \nL 133.066067 141.42331 \nL 133.676015 142.30187 \nL 134.895909 141.803151 \nL 135.505856 140.464766 \nL 136.72575 142.163686 \nL 137.335698 142.457796 \nL 137.945645 143.27649 \nL 138.555592 143.031443 \nL 139.775486 143.58643 \nL 142.215275 142.642778 \nL 144.045116 139.04065 \nL 145.265011 138.655574 \nL 145.874958 137.989652 \nL 146.484905 137.807832 \nL 147.094852 138.099347 \nL 147.704799 137.919391 \nL 148.314747 138.205851 \nL 149.534641 137.85217 \nL 150.144588 138.132967 \nL 150.754535 137.959156 \nL 151.364482 138.235239 \nL 152.584377 137.89344 \nL 153.194324 138.164268 \nL 153.804271 138.866574 \nL 154.414218 137.830403 \nL 155.024165 137.666865 \nL 155.634113 137.931936 \nL 156.854007 137.610001 \nL 158.073901 138.957588 \nL 159.293796 138.63073 \nL 160.51369 139.121591 \nL 161.123637 138.558083 \nL 161.733584 138.401277 \nL 162.343531 138.64354 \nL 162.953479 138.093505 \nL 164.173373 138.572881 \nL 164.78332 138.420771 \nL 165.393267 138.655574 \nL 166.613162 138.355812 \nL 167.223109 138.586809 \nL 167.833056 138.43911 \nL 168.443003 137.919391 \nL 169.05295 137.034195 \nL 169.662897 136.898094 \nL 170.272845 137.498119 \nL 170.882792 136.630599 \nL 171.492739 136.862211 \nL 172.102686 136.369173 \nL 173.32258 136.113636 \nL 173.932528 135.633038 \nL 175.152422 136.091935 \nL 175.762369 135.968494 \nL 176.372316 136.540806 \nL 176.982263 136.416266 \nL 178.202158 137.53761 \nL 178.812105 137.409737 \nL 180.031999 136.485694 \nL 180.641946 136.365376 \nL 181.251894 136.578981 \nL 181.861841 135.46665 \nL 183.691682 135.130636 \nL 184.301629 134.696744 \nL 184.911577 133.944731 \nL 185.521524 134.163013 \nL 186.131471 134.698372 \nL 188.57126 135.535122 \nL 189.181207 136.050637 \nL 189.791154 135.631306 \nL 190.401101 135.524489 \nL 191.011048 136.032582 \nL 191.620995 135.313915 \nL 193.450837 135.005557 \nL 194.060784 134.605 \nL 195.280678 134.408931 \nL 195.890626 134.607784 \nL 196.500573 135.098957 \nL 197.720467 134.901959 \nL 198.330414 135.094933 \nL 198.940361 134.708531 \nL 200.770203 134.424903 \nL 201.38015 134.048404 \nL 201.990097 134.522412 \nL 202.600044 133.867672 \nL 203.209992 134.058402 \nL 203.819939 133.690103 \nL 205.039833 134.068135 \nL 205.64978 133.429529 \nL 206.259727 133.344167 \nL 206.869675 133.532236 \nL 208.089569 132.822072 \nL 208.699516 133.279179 \nL 209.309463 133.464342 \nL 209.91941 133.380987 \nL 211.749252 134.71692 \nL 212.359199 134.104662 \nL 212.969146 134.281862 \nL 213.579093 134.197201 \nL 214.189041 133.853897 \nL 214.798988 133.771668 \nL 216.018882 134.1216 \nL 216.628829 134.039287 \nL 217.848724 134.889187 \nL 218.458671 134.552671 \nL 219.068618 134.721095 \nL 219.678565 134.638034 \nL 220.288512 134.8048 \nL 220.898459 135.21846 \nL 222.118354 135.543614 \nL 222.728301 135.213669 \nL 223.338248 135.130636 \nL 224.558142 135.451502 \nL 225.778037 135.286146 \nL 226.997931 135.601018 \nL 227.607878 135.518714 \nL 228.217825 135.911185 \nL 228.827773 135.355933 \nL 230.047667 134.726653 \nL 231.267561 134.572062 \nL 231.877508 134.727505 \nL 233.097403 134.574599 \nL 233.70735 134.269592 \nL 234.317297 134.42388 \nL 234.927244 133.89387 \nL 235.537191 134.27532 \nL 236.147139 133.97572 \nL 236.757086 133.903556 \nL 237.97698 134.208203 \nL 238.586927 134.135982 \nL 239.196874 133.842109 \nL 239.806822 133.993055 \nL 240.416769 133.4811 \nL 241.636663 133.344167 \nL 242.24661 132.621382 \nL 242.856557 132.121138 \nL 243.466505 132.274858 \nL 244.076452 132.643659 \nL 244.686399 132.579193 \nL 246.51624 133.028026 \nL 247.126188 132.963133 \nL 247.736135 133.322258 \nL 249.565976 133.127239 \nL 250.175923 133.4811 \nL 250.785871 133.62432 \nL 252.005765 133.494033 \nL 252.615712 133.842109 \nL 253.225659 133.982309 \nL 253.835606 134.32656 \nL 254.445554 134.464298 \nL 255.665448 133.925152 \nL 256.275395 134.265209 \nL 256.885342 133.997978 \nL 258.715184 133.805781 \nL 259.325131 133.941702 \nL 259.935078 133.87821 \nL 260.545025 133.617182 \nL 261.154972 133.75242 \nL 261.76492 133.690103 \nL 262.374867 133.432076 \nL 263.594761 133.310565 \nL 264.204708 133.05606 \nL 264.814655 132.99682 \nL 265.424603 133.131064 \nL 266.03455 133.071957 \nL 266.644497 133.20516 \nL 267.254444 133.146194 \nL 268.474338 133.409769 \nL 269.084286 132.97138 \nL 269.694233 132.913806 \nL 270.30418 132.66803 \nL 270.914127 132.611686 \nL 272.134021 132.126251 \nL 272.743969 132.258327 \nL 273.353916 132.203849 \nL 273.963863 132.520161 \nL 274.57381 132.280539 \nL 276.403652 132.668569 \nL 277.013599 132.431267 \nL 277.623546 132.7415 \nL 278.233493 132.868417 \nL 278.84344 132.813598 \nL 279.453387 133.120091 \nL 281.283229 133.492291 \nL 281.893176 133.079531 \nL 282.503123 133.025034 \nL 283.11307 133.325809 \nL 283.723018 132.916958 \nL 284.332965 132.86337 \nL 286.162806 133.229492 \nL 286.772753 133.00108 \nL 287.382701 132.947994 \nL 287.992648 132.721599 \nL 289.212542 132.963133 \nL 289.822489 132.910729 \nL 290.432436 133.030326 \nL 291.042384 132.978026 \nL 291.652331 133.2676 \nL 292.262278 133.385286 \nL 292.872225 133.672228 \nL 294.092119 133.903556 \nL 294.702067 133.681241 \nL 295.312014 133.628183 \nL 295.921961 133.910694 \nL 297.141855 134.137743 \nL 297.751802 134.416704 \nL 298.36175 134.528311 \nL 298.971697 134.30842 \nL 299.581644 134.419724 \nL 300.191591 134.695068 \nL 301.411485 134.586462 \nL 302.021433 134.69591 \nL 302.63138 134.641887 \nL 303.851274 135.183003 \nL 304.461221 134.8048 \nL 305.071168 134.589785 \nL 305.681116 134.536709 \nL 306.291063 134.644358 \nL 306.90101 134.591414 \nL 307.510957 134.698372 \nL 308.730851 135.228392 \nL 309.340799 134.857621 \nL 310.560693 135.067571 \nL 311.17064 135.329045 \nL 312.390534 135.535122 \nL 313.000482 135.481288 \nL 313.610429 135.583455 \nL 314.220376 135.84046 \nL 314.830323 135.786275 \nL 315.44027 136.041548 \nL 316.050217 135.987136 \nL 316.660165 136.086842 \nL 317.270112 135.572169 \nL 317.880059 135.366177 \nL 318.490006 135.619386 \nL 320.319848 135.461916 \nL 320.929795 135.258642 \nL 323.369583 135.653972 \nL 323.979531 135.602135 \nL 325.199425 135.796804 \nL 325.809372 136.041907 \nL 326.419319 136.13776 \nL 327.029266 136.380932 \nL 327.639214 136.475554 \nL 328.249161 136.716814 \nL 328.859108 136.516748 \nL 329.469055 136.464003 \nL 330.079002 136.557564 \nL 330.688949 136.213512 \nL 331.298897 136.161827 \nL 333.128738 136.441375 \nL 334.348632 136.338137 \nL 334.95858 136.143441 \nL 335.568527 135.806527 \nL 338.008315 135.041175 \nL 339.22821 135.228392 \nL 339.838157 135.462248 \nL 340.448104 135.413943 \nL 341.058051 135.506103 \nL 341.667998 135.317958 \nL 342.277946 135.270278 \nL 344.717734 135.635358 \nL 345.327681 135.44939 \nL 345.937629 135.402051 \nL 347.157523 135.856906 \nL 347.76747 135.808989 \nL 348.377417 135.89792 \nL 348.987365 135.850127 \nL 349.597312 136.074647 \nL 351.427153 135.931361 \nL 352.0371 135.614197 \nL 352.647048 135.702229 \nL 353.256995 135.521223 \nL 353.866942 135.743121 \nL 354.476889 135.696558 \nL 356.306731 135.95681 \nL 356.916678 135.777546 \nL 358.136572 135.949624 \nL 358.746519 135.771487 \nL 359.966414 135.942533 \nL 360.576361 135.896519 \nL 361.186308 135.719953 \nL 362.406202 135.889806 \nL 363.016149 135.844275 \nL 363.626097 135.928596 \nL 364.236044 136.141983 \nL 365.455938 136.050637 \nL 366.065885 135.876627 \nL 366.675832 135.960029 \nL 367.28578 135.7869 \nL 367.895727 135.742316 \nL 368.505674 135.825491 \nL 369.115621 135.399012 \nL 369.725568 135.35546 \nL 369.725568 135.35546 \n\" style=\"fill:none;stroke:#ff7f0e;stroke-linecap:square;stroke-width:1.5;\"/>\n   </g>\n   <g id=\"line2d_17\">\n    <path clip-path=\"url(#pf0a1004df2)\" d=\"M 65.361932 113.62558 \nL 65.971879 81.856751 \nL 66.581826 92.44636 \nL 67.191773 81.856751 \nL 67.80172 88.21052 \nL 68.411668 81.856751 \nL 69.021615 95.471963 \nL 69.631562 105.683371 \nL 70.241509 99.5061 \nL 71.461403 113.62558 \nL 72.071351 113.62558 \nL 72.681298 123.400605 \nL 73.291245 122.702389 \nL 74.511139 129.51 \nL 75.121086 136.050637 \nL 75.731034 134.8048 \nL 76.340981 137.034195 \nL 76.950928 135.86376 \nL 77.560875 137.830403 \nL 78.170822 142.506337 \nL 78.780769 144.013165 \nL 79.390717 148.04182 \nL 80.000664 141.582152 \nL 80.610611 138.063142 \nL 81.830505 136.317602 \nL 82.440452 133.344167 \nL 83.0504 136.92273 \nL 83.660347 136.1712 \nL 84.880241 138.655574 \nL 86.100135 144.486737 \nL 87.32003 142.818559 \nL 87.929977 143.722369 \nL 88.539924 142.950654 \nL 89.149871 143.80597 \nL 89.759819 146.169259 \nL 90.369766 143.881609 \nL 91.58966 142.506337 \nL 92.199607 140.4526 \nL 94.029449 142.74701 \nL 94.639396 144.746071 \nL 97.079185 147.192648 \nL 97.689132 144.217793 \nL 98.299079 142.506337 \nL 98.909026 143.125213 \nL 100.12892 139.917032 \nL 100.738868 139.471409 \nL 101.348815 140.09961 \nL 101.958762 141.748815 \nL 102.568709 142.32001 \nL 103.178656 138.838937 \nL 103.788603 138.44498 \nL 104.398551 140.018149 \nL 105.618445 137.333663 \nL 106.838339 140.329821 \nL 107.448286 139.04065 \nL 108.058234 138.682689 \nL 108.668181 137.45221 \nL 109.278128 138.866574 \nL 110.498022 138.193476 \nL 111.107969 137.034195 \nL 111.717917 136.730192 \nL 112.327864 137.248556 \nL 112.937811 136.145258 \nL 114.157705 135.589221 \nL 114.767652 136.096215 \nL 115.3776 137.356518 \nL 115.987547 137.830403 \nL 116.597494 137.545648 \nL 117.207441 135.789883 \nL 117.817388 135.535122 \nL 118.427335 136.008164 \nL 119.037283 135.756679 \nL 119.64723 136.92273 \nL 122.087018 138.635085 \nL 122.696966 137.034195 \nL 123.91686 136.551543 \nL 124.526807 137.61429 \nL 125.136754 138.013776 \nL 125.746701 139.04065 \nL 126.356649 138.159932 \nL 126.966596 138.54231 \nL 127.576543 138.300406 \nL 128.18649 139.285025 \nL 129.406384 137.602057 \nL 130.016332 137.971786 \nL 130.626279 136.56974 \nL 131.236226 136.942158 \nL 131.846173 136.152568 \nL 132.45612 137.094448 \nL 133.066067 136.317602 \nL 133.676015 136.679075 \nL 134.285962 136.476851 \nL 134.895909 136.830645 \nL 135.505856 137.726077 \nL 136.115803 136.977028 \nL 136.72575 136.77914 \nL 137.335698 137.118497 \nL 137.945645 136.92273 \nL 138.555592 137.255288 \nL 139.165539 136.020008 \nL 139.775486 135.321366 \nL 140.385433 135.1464 \nL 140.995381 135.990838 \nL 141.605328 135.309067 \nL 142.215275 136.138924 \nL 142.825222 136.45943 \nL 143.435169 137.267502 \nL 144.045116 137.574392 \nL 144.655064 137.391578 \nL 145.874958 137.989652 \nL 146.484905 136.859503 \nL 147.094852 137.158053 \nL 147.704799 136.985019 \nL 148.314747 134.959401 \nL 149.534641 135.56665 \nL 150.144588 134.956087 \nL 151.97443 137.174508 \nL 152.584377 137.01097 \nL 153.194324 137.726077 \nL 153.804271 137.125815 \nL 154.414218 137.830403 \nL 155.024165 138.096166 \nL 156.24406 136.92273 \nL 156.854007 137.189221 \nL 157.463954 137.870215 \nL 158.073901 137.296473 \nL 158.683848 137.142772 \nL 159.293796 136.58113 \nL 159.903743 136.841268 \nL 160.51369 136.6934 \nL 161.123637 136.145258 \nL 161.733584 136.802838 \nL 162.343531 136.65799 \nL 165.393267 137.885421 \nL 166.003214 138.504789 \nL 167.223109 138.208606 \nL 167.833056 137.687183 \nL 169.662897 139.483935 \nL 170.882792 139.917032 \nL 171.492739 139.766796 \nL 172.102686 139.979274 \nL 172.712633 139.830382 \nL 173.32258 140.040114 \nL 174.542475 139.04065 \nL 175.152422 139.602311 \nL 175.762369 139.808682 \nL 176.372316 138.971203 \nL 176.982263 139.178776 \nL 177.592211 139.04065 \nL 178.202158 139.24561 \nL 179.422052 140.324916 \nL 180.031999 140.183656 \nL 180.641946 140.712691 \nL 181.251894 139.905557 \nL 182.471788 140.291646 \nL 183.081735 139.82668 \nL 183.691682 140.018149 \nL 184.301629 140.531836 \nL 184.911577 140.717785 \nL 185.521524 140.580955 \nL 186.131471 141.084067 \nL 186.741418 140.62909 \nL 187.351365 140.494741 \nL 188.57126 141.481992 \nL 189.181207 140.722528 \nL 189.791154 139.660529 \nL 190.401101 139.842577 \nL 191.011048 139.715925 \nL 191.620995 140.201427 \nL 192.230943 140.378287 \nL 192.84089 140.250887 \nL 193.450837 140.425825 \nL 194.060784 139.999705 \nL 194.670731 140.174179 \nL 195.280678 140.050121 \nL 196.500573 139.21714 \nL 197.11052 139.684805 \nL 198.330414 139.446821 \nL 198.940361 139.618264 \nL 199.550309 139.213145 \nL 200.160256 139.384096 \nL 200.770203 138.983663 \nL 201.990097 139.323038 \nL 202.600044 139.209329 \nL 203.209992 139.376531 \nL 203.819939 139.263589 \nL 204.429886 139.706543 \nL 205.039833 139.593146 \nL 206.259727 140.464766 \nL 206.869675 139.804194 \nL 207.479622 139.692313 \nL 208.699516 138.932953 \nL 209.309463 138.289991 \nL 209.91941 138.720286 \nL 210.529358 138.083592 \nL 211.139305 137.71695 \nL 212.359199 138.042947 \nL 213.579093 137.842806 \nL 214.189041 138.003295 \nL 216.018882 137.70841 \nL 216.628829 137.866864 \nL 217.848724 137.673701 \nL 218.458671 137.830403 \nL 219.068618 137.483596 \nL 219.678565 137.389665 \nL 220.288512 136.798142 \nL 221.508407 136.12335 \nL 222.118354 136.528697 \nL 223.338248 136.841268 \nL 223.948195 137.239193 \nL 224.558142 136.17903 \nL 225.16809 136.09327 \nL 225.778037 136.489519 \nL 226.387984 136.403238 \nL 226.997931 136.556466 \nL 228.217825 135.911185 \nL 228.827773 135.828332 \nL 229.43772 135.51078 \nL 230.657614 135.349855 \nL 231.267561 135.503016 \nL 232.487456 135.343909 \nL 235.537191 136.090686 \nL 236.147139 136.462962 \nL 236.757086 136.381983 \nL 237.367033 136.750595 \nL 237.97698 136.445446 \nL 238.586927 136.588316 \nL 239.196874 136.285865 \nL 239.806822 136.206913 \nL 241.026716 136.490343 \nL 242.856557 137.561005 \nL 244.076452 137.398177 \nL 244.686399 137.532971 \nL 245.296346 137.0229 \nL 247.126188 137.425643 \nL 247.736135 137.346312 \nL 248.346082 137.478597 \nL 248.956029 137.189221 \nL 249.565976 137.321146 \nL 250.175923 137.034195 \nL 250.785871 136.540806 \nL 251.395818 136.673555 \nL 252.005765 137.012409 \nL 253.225659 136.861037 \nL 253.835606 136.37616 \nL 254.445554 136.098714 \nL 255.665448 136.361106 \nL 256.275395 135.884003 \nL 257.495289 135.743121 \nL 258.105237 136.074221 \nL 258.715184 136.003629 \nL 259.325131 136.132657 \nL 261.154972 135.330995 \nL 261.76492 135.263792 \nL 262.374867 135.393113 \nL 263.594761 135.259569 \nL 264.204708 134.8048 \nL 266.03455 134.612262 \nL 266.644497 134.740817 \nL 267.254444 134.677221 \nL 267.864391 134.995606 \nL 268.474338 134.931622 \nL 269.084286 135.057686 \nL 269.694233 135.372104 \nL 270.30418 135.496114 \nL 270.914127 135.431411 \nL 271.524074 134.992226 \nL 272.134021 135.116264 \nL 272.743969 134.866909 \nL 273.353916 134.990588 \nL 273.963863 135.298776 \nL 274.57381 135.420476 \nL 275.183757 134.988969 \nL 276.403652 134.499623 \nL 277.013599 134.439644 \nL 278.233493 133.594563 \nL 278.84344 133.899712 \nL 279.453387 134.022614 \nL 280.063335 133.604845 \nL 280.673282 133.907381 \nL 281.283229 133.850252 \nL 281.893176 134.150392 \nL 283.11307 134.035727 \nL 283.723018 133.80189 \nL 284.332965 133.39286 \nL 284.942912 133.338098 \nL 286.772753 133.699296 \nL 287.382701 133.644298 \nL 289.212542 133.999077 \nL 290.432436 133.888947 \nL 291.042384 133.663063 \nL 291.652331 133.78 \nL 292.262278 133.385286 \nL 292.872225 133.332455 \nL 293.482172 133.618763 \nL 294.092119 133.565591 \nL 294.702067 133.849769 \nL 295.312014 133.796266 \nL 297.141855 134.137743 \nL 297.751802 133.91772 \nL 298.36175 134.196519 \nL 298.971697 133.97749 \nL 299.581644 134.089665 \nL 300.801538 134.640628 \nL 301.411485 134.422706 \nL 302.63138 134.641887 \nL 303.851274 134.534664 \nL 305.681116 134.858426 \nL 306.291063 134.644358 \nL 306.90101 134.751458 \nL 308.120904 135.282529 \nL 308.730851 135.387234 \nL 309.340799 135.332964 \nL 309.950746 135.120913 \nL 312.390534 135.535122 \nL 313.000482 135.481288 \nL 313.610429 135.583455 \nL 314.220376 135.529763 \nL 314.830323 135.321366 \nL 316.050217 135.524489 \nL 316.660165 135.317617 \nL 317.880059 135.825491 \nL 319.099953 136.023748 \nL 319.7099 135.818163 \nL 320.319848 135.7652 \nL 321.539742 135.961866 \nL 323.369583 135.803819 \nL 323.979531 136.050637 \nL 324.589478 136.147152 \nL 325.199425 135.9456 \nL 327.639214 135.738463 \nL 328.859108 135.929799 \nL 329.469055 135.878407 \nL 330.079002 136.119373 \nL 332.518791 135.335492 \nL 333.738685 135.237036 \nL 334.348632 135.331885 \nL 336.178474 135.18555 \nL 336.788421 135.422132 \nL 337.398368 135.231232 \nL 338.618263 135.418014 \nL 339.22821 135.087188 \nL 340.448104 135.273374 \nL 341.058051 135.506103 \nL 341.667998 135.597856 \nL 342.277946 135.54957 \nL 342.887893 135.222815 \nL 343.49784 135.314587 \nL 344.107787 134.989774 \nL 344.717734 134.8048 \nL 346.547576 134.66728 \nL 347.157523 134.484598 \nL 347.76747 134.576578 \nL 348.377417 134.53152 \nL 348.987365 134.759355 \nL 349.597312 134.714098 \nL 350.207259 134.940569 \nL 350.817206 134.895124 \nL 351.427153 134.985049 \nL 352.647048 134.894546 \nL 353.256995 134.715253 \nL 353.866942 134.8048 \nL 354.476889 134.760216 \nL 355.696783 134.938003 \nL 356.306731 135.159267 \nL 358.746519 135.507845 \nL 360.576361 135.372493 \nL 361.186308 135.45848 \nL 361.796255 135.674583 \nL 362.406202 135.499201 \nL 364.845991 135.837932 \nL 365.455938 135.663998 \nL 366.675832 135.574953 \nL 367.28578 135.6588 \nL 368.505674 135.570314 \nL 369.115621 135.399012 \nL 369.725568 135.101314 \nL 369.725568 135.101314 \n\" style=\"fill:none;stroke:#2ca02c;stroke-linecap:square;stroke-width:1.5;\"/>\n   </g>\n   <g id=\"line2d_18\">\n    <path clip-path=\"url(#pf0a1004df2)\" d=\"M 65.361932 177.163245 \nL 65.971879 145.39441 \nL 66.581826 134.8048 \nL 67.191773 129.51 \nL 67.80172 113.62558 \nL 68.411668 92.44636 \nL 69.021615 95.471963 \nL 69.631562 81.856751 \nL 70.241509 99.5061 \nL 70.851456 88.21052 \nL 72.071351 92.44636 \nL 72.681298 89.188019 \nL 73.901192 100.91805 \nL 75.121086 109.888071 \nL 75.731034 99.5061 \nL 76.340981 100.249232 \nL 77.560875 113.62558 \nL 78.170822 119.401736 \nL 79.390717 113.62558 \nL 80.610611 113.62558 \nL 81.220558 111.272337 \nL 81.830505 113.62558 \nL 82.440452 113.62558 \nL 83.0504 107.27182 \nL 83.660347 111.57598 \nL 84.270294 111.64003 \nL 84.880241 115.550962 \nL 85.490188 113.62558 \nL 86.100135 115.440946 \nL 86.710083 115.39052 \nL 87.32003 113.62558 \nL 89.149871 123.15623 \nL 90.369766 122.702389 \nL 90.979713 121.013684 \nL 92.809554 120.531846 \nL 93.419502 121.736772 \nL 94.639396 118.812333 \nL 95.249343 119.97935 \nL 96.469237 117.291219 \nL 97.079185 119.619704 \nL 98.299079 119.401736 \nL 99.518973 116.969672 \nL 100.12892 119.102968 \nL 100.738868 119.010126 \nL 101.958762 116.750387 \nL 102.568709 116.69999 \nL 103.178656 117.659717 \nL 106.838339 117.308924 \nL 107.448286 118.163985 \nL 108.058234 118.100067 \nL 108.668181 117.15545 \nL 110.498022 119.555768 \nL 111.107969 121.149775 \nL 111.717917 121.052067 \nL 112.327864 122.58602 \nL 113.547758 122.36201 \nL 114.157705 121.469741 \nL 115.3776 122.811752 \nL 115.987547 122.702389 \nL 116.597494 121.848105 \nL 117.817388 124.580356 \nL 119.037283 125.761991 \nL 119.64723 127.03909 \nL 120.257177 126.891685 \nL 120.867124 127.438122 \nL 121.477071 125.23999 \nL 122.696966 126.33311 \nL 123.306913 127.52445 \nL 123.91686 127.381163 \nL 125.136754 128.386857 \nL 125.746701 128.239244 \nL 128.18649 130.120941 \nL 129.406384 129.809705 \nL 130.016332 128.470828 \nL 131.236226 128.198438 \nL 132.45612 129.08069 \nL 133.676015 128.807145 \nL 134.895909 130.753129 \nL 135.505856 131.153212 \nL 136.115803 131.003402 \nL 137.335698 131.779197 \nL 137.945645 131.09844 \nL 138.555592 131.479142 \nL 139.165539 132.374403 \nL 139.775486 132.738537 \nL 140.995381 131.416124 \nL 142.825222 130.99916 \nL 143.435169 131.357026 \nL 144.045116 131.220632 \nL 144.655064 130.116274 \nL 145.265011 129.991345 \nL 145.874958 128.912844 \nL 146.484905 129.747075 \nL 147.094852 129.627657 \nL 149.534641 130.995591 \nL 150.144588 130.871524 \nL 150.754535 131.199831 \nL 151.364482 131.076068 \nL 151.97443 130.50972 \nL 152.584377 130.39247 \nL 153.194324 130.715021 \nL 153.804271 130.16278 \nL 154.414218 130.914745 \nL 155.024165 130.368611 \nL 155.634113 130.682669 \nL 156.24406 130.56896 \nL 156.854007 131.298306 \nL 157.463954 131.182041 \nL 158.073901 131.48257 \nL 158.683848 131.366617 \nL 159.293796 130.84224 \nL 161.733584 130.409114 \nL 162.953479 130.98991 \nL 163.563426 130.490519 \nL 164.173373 131.166656 \nL 164.78332 131.447122 \nL 166.613162 131.126976 \nL 167.223109 130.266396 \nL 167.833056 130.919857 \nL 168.443003 130.818125 \nL 169.05295 130.346021 \nL 169.662897 130.987619 \nL 170.272845 130.88726 \nL 170.882792 131.153212 \nL 171.492739 131.053051 \nL 172.102686 130.232018 \nL 172.712633 130.497165 \nL 173.32258 130.402383 \nL 173.932528 130.66362 \nL 174.542475 130.21597 \nL 175.152422 129.071203 \nL 176.982263 129.855311 \nL 177.592211 129.767582 \nL 178.202158 129.3392 \nL 178.812105 129.255163 \nL 179.422052 129.847964 \nL 181.251894 128.595188 \nL 181.861841 128.84815 \nL 182.471788 128.769273 \nL 183.081735 129.346244 \nL 183.691682 129.265625 \nL 184.301629 129.51 \nL 186.131471 129.270539 \nL 186.741418 129.827684 \nL 187.961312 130.296352 \nL 188.57126 130.214238 \nL 189.791154 130.672273 \nL 190.401101 130.589524 \nL 191.011048 131.121456 \nL 192.230943 131.562052 \nL 192.84089 131.476643 \nL 194.670731 132.120116 \nL 195.280678 132.033693 \nL 195.890626 132.243595 \nL 196.500573 132.1574 \nL 197.11052 131.193601 \nL 197.720467 131.695928 \nL 198.330414 131.323292 \nL 198.940361 131.242844 \nL 199.550309 130.875624 \nL 200.160256 130.797921 \nL 200.770203 131.290761 \nL 201.38015 130.928246 \nL 201.990097 130.851348 \nL 202.600044 131.337409 \nL 204.429886 131.937746 \nL 205.039833 131.581878 \nL 205.64978 132.054257 \nL 206.259727 131.974822 \nL 206.869675 132.168762 \nL 207.479622 132.632573 \nL 208.699516 133.009952 \nL 209.309463 132.928159 \nL 209.91941 132.313127 \nL 210.529358 132.50079 \nL 211.749252 131.289577 \nL 212.359199 131.741695 \nL 212.969146 131.144198 \nL 213.579093 131.332798 \nL 214.798988 132.221971 \nL 215.408935 132.146683 \nL 216.628829 133.018605 \nL 217.238776 133.195181 \nL 217.848724 133.623497 \nL 219.068618 133.967681 \nL 219.678565 134.387893 \nL 220.288512 134.555635 \nL 220.898459 134.97027 \nL 222.728301 134.723026 \nL 223.338248 135.130636 \nL 223.948195 135.291684 \nL 224.558142 135.694011 \nL 225.16809 135.851689 \nL 225.778037 136.248837 \nL 226.387984 136.163475 \nL 226.997931 136.556466 \nL 227.607878 136.232618 \nL 228.217825 136.385344 \nL 228.827773 136.773128 \nL 229.43772 136.92273 \nL 230.047667 137.305666 \nL 232.487456 137.885421 \nL 233.70735 137.710256 \nL 234.317297 137.85217 \nL 234.927244 138.22081 \nL 235.537191 138.132967 \nL 236.147139 138.271861 \nL 236.757086 138.635085 \nL 237.367033 138.771233 \nL 237.97698 138.458964 \nL 238.586927 138.371832 \nL 239.196874 138.729622 \nL 239.806822 138.199384 \nL 240.416769 138.33467 \nL 241.026716 138.249176 \nL 242.24661 138.953309 \nL 242.856557 138.648974 \nL 243.466505 138.563574 \nL 244.076452 138.262639 \nL 244.686399 138.179123 \nL 245.296346 137.881511 \nL 245.906293 137.799841 \nL 246.51624 138.145152 \nL 247.126188 138.063142 \nL 247.736135 138.193476 \nL 248.346082 138.111854 \nL 248.956029 137.820386 \nL 249.565976 138.159932 \nL 250.175923 138.28823 \nL 250.785871 138.624008 \nL 251.395818 138.749949 \nL 252.005765 138.254184 \nL 252.615712 138.380514 \nL 253.225659 138.300406 \nL 255.055501 138.674083 \nL 255.665448 139.000052 \nL 256.275395 138.716887 \nL 257.495289 138.558083 \nL 258.105237 138.679868 \nL 258.715184 138.401277 \nL 259.325131 138.323612 \nL 263.594761 139.157587 \nL 264.204708 139.468114 \nL 264.814655 139.389332 \nL 265.424603 139.504148 \nL 267.254444 139.270302 \nL 267.864391 139.384096 \nL 268.474338 139.116743 \nL 269.694233 139.343204 \nL 270.914127 139.191037 \nL 271.524074 139.490467 \nL 272.134021 139.414403 \nL 272.743969 139.525101 \nL 273.353916 139.820933 \nL 273.963863 139.744566 \nL 274.57381 139.299236 \nL 275.793704 139.518095 \nL 276.403652 139.809695 \nL 277.013599 139.917032 \nL 277.623546 140.205811 \nL 278.233493 140.129869 \nL 278.84344 139.692313 \nL 280.063335 139.184646 \nL 280.673282 138.753471 \nL 281.283229 138.86167 \nL 281.893176 139.147731 \nL 282.503123 139.07624 \nL 283.11307 138.295237 \nL 283.723018 138.580484 \nL 284.332965 138.68766 \nL 284.942912 138.442234 \nL 285.552859 138.373678 \nL 286.162806 137.955435 \nL 286.772753 137.888592 \nL 289.212542 138.315488 \nL 289.822489 138.076387 \nL 291.042384 138.287104 \nL 291.652331 137.87921 \nL 292.262278 137.98453 \nL 292.872225 138.259164 \nL 293.482172 138.024049 \nL 294.092119 137.959156 \nL 294.702067 137.726077 \nL 295.312014 137.830403 \nL 296.531908 137.703013 \nL 297.141855 137.473049 \nL 298.971697 137.78313 \nL 299.581644 138.050455 \nL 300.191591 137.822564 \nL 300.801538 137.431684 \nL 302.021433 137.635962 \nL 302.63138 137.574392 \nL 303.241327 137.350639 \nL 303.851274 137.45221 \nL 304.461221 137.391578 \nL 306.291063 137.692883 \nL 307.510957 137.252656 \nL 309.340799 137.551234 \nL 309.950746 137.333663 \nL 310.560693 137.432498 \nL 311.17064 137.216299 \nL 311.780587 137.314935 \nL 312.390534 136.787093 \nL 313.000482 137.042413 \nL 313.610429 136.829292 \nL 314.830323 137.335982 \nL 315.44027 137.432886 \nL 316.050217 137.220882 \nL 316.660165 137.317596 \nL 317.270112 137.56731 \nL 317.880059 137.662718 \nL 318.490006 137.299474 \nL 319.099953 137.395071 \nL 319.7099 137.338207 \nL 320.929795 137.527848 \nL 321.539742 137.018308 \nL 322.149689 136.812316 \nL 322.759636 136.757497 \nL 323.369583 136.553086 \nL 323.979531 136.648645 \nL 324.589478 136.296299 \nL 325.199425 136.392009 \nL 325.809372 136.190363 \nL 326.419319 136.13776 \nL 327.029266 136.233167 \nL 327.639214 136.033301 \nL 328.249161 136.275583 \nL 329.469055 136.1712 \nL 330.079002 136.265443 \nL 331.298897 136.743409 \nL 331.908844 136.835692 \nL 332.518791 136.782814 \nL 333.128738 137.018999 \nL 334.348632 136.913139 \nL 334.95858 137.004002 \nL 335.568527 136.808245 \nL 336.178474 136.756143 \nL 336.788421 136.84675 \nL 337.398368 137.079082 \nL 338.008315 137.168553 \nL 339.22821 137.063924 \nL 339.838157 137.152836 \nL 340.448104 136.960213 \nL 341.667998 136.857411 \nL 342.277946 136.946002 \nL 342.887893 136.755518 \nL 343.49784 136.704912 \nL 344.107787 136.793247 \nL 344.717734 137.019624 \nL 345.327681 136.968772 \nL 345.937629 136.642481 \nL 347.157523 136.817514 \nL 347.76747 137.0414 \nL 348.377417 136.99105 \nL 349.597312 136.618869 \nL 351.427153 136.472107 \nL 352.0371 136.558492 \nL 352.647048 136.509913 \nL 353.256995 136.595862 \nL 353.866942 136.41335 \nL 354.476889 136.6329 \nL 355.086836 136.584567 \nL 355.696783 136.403238 \nL 356.306731 136.089739 \nL 357.526625 135.99613 \nL 358.136572 135.817529 \nL 359.966414 136.073805 \nL 360.576361 136.027526 \nL 361.186308 136.2429 \nL 361.796255 135.935517 \nL 362.406202 136.020008 \nL 363.016149 135.974212 \nL 363.626097 136.058268 \nL 364.236044 135.883179 \nL 364.845991 136.096215 \nL 365.455938 136.179523 \nL 366.065885 136.133859 \nL 366.675832 136.21675 \nL 367.895727 136.12584 \nL 368.505674 135.953071 \nL 369.725568 136.117915 \nL 369.725568 136.117915 \n\" style=\"fill:none;stroke:#d62728;stroke-linecap:square;stroke-width:1.5;\"/>\n   </g>\n   <g id=\"line2d_19\">\n    <path clip-path=\"url(#pf0a1004df2)\" d=\"M 65.361932 50.087911 \nL 65.971879 145.39441 \nL 66.581826 177.163245 \nL 67.191773 161.27883 \nL 67.80172 164.455715 \nL 68.411668 177.163245 \nL 69.021615 168.086436 \nL 69.631562 161.27883 \nL 70.241509 163.043765 \nL 70.851456 164.455715 \nL 71.461403 154.058638 \nL 72.071351 161.27883 \nL 73.291245 163.548032 \nL 73.901192 164.455715 \nL 74.511139 161.27883 \nL 75.731034 163.043765 \nL 76.340981 163.786896 \nL 76.950928 158.10195 \nL 77.560875 159.009623 \nL 78.170822 151.170565 \nL 78.780769 146.775665 \nL 79.390717 148.04182 \nL 80.610611 145.39441 \nL 81.220558 148.92428 \nL 83.0504 151.74818 \nL 83.660347 150.51842 \nL 84.270294 151.35107 \nL 84.880241 150.207874 \nL 85.490188 151.000674 \nL 86.710083 148.92428 \nL 87.32003 149.687502 \nL 87.929977 145.39441 \nL 88.539924 144.579825 \nL 89.149871 142.21753 \nL 89.759819 141.520166 \nL 90.369766 143.881609 \nL 92.199607 146.10039 \nL 92.809554 146.775665 \nL 94.029449 140.09961 \nL 95.85929 138.54231 \nL 96.469237 140.506898 \nL 97.079185 138.800886 \nL 98.299079 140.195879 \nL 98.909026 139.721407 \nL 99.518973 141.492974 \nL 101.348815 136.92273 \nL 101.958762 136.540806 \nL 102.568709 138.22081 \nL 103.178656 137.830403 \nL 103.788603 136.45943 \nL 104.398551 134.153138 \nL 106.228392 136.050637 \nL 106.838339 137.56731 \nL 107.448286 138.132967 \nL 108.668181 140.98208 \nL 109.888075 141.959948 \nL 110.498022 141.582152 \nL 112.327864 138.063142 \nL 112.937811 139.362358 \nL 113.547758 139.83487 \nL 114.157705 139.511297 \nL 114.767652 138.420771 \nL 115.3776 139.653059 \nL 115.987547 138.586809 \nL 116.597494 139.788146 \nL 117.817388 140.647344 \nL 118.427335 141.784319 \nL 119.037283 142.181836 \nL 119.64723 141.15857 \nL 120.867124 141.941277 \nL 121.477071 140.95361 \nL 122.087018 140.66289 \nL 122.696966 139.709468 \nL 123.306913 140.09961 \nL 124.526807 139.559327 \nL 125.136754 139.939158 \nL 125.746701 140.946774 \nL 127.576543 140.151011 \nL 128.796437 140.856006 \nL 129.406384 140.599115 \nL 130.626279 141.276236 \nL 131.236226 140.439638 \nL 131.846173 140.773494 \nL 132.45612 141.673744 \nL 133.676015 142.30187 \nL 134.285962 142.050328 \nL 134.895909 140.698148 \nL 135.505856 140.464766 \nL 136.115803 139.149256 \nL 136.72575 138.394498 \nL 137.335698 138.720286 \nL 137.945645 138.51117 \nL 139.165539 139.144806 \nL 140.385433 138.73321 \nL 140.995381 138.024049 \nL 141.605328 137.830403 \nL 142.825222 138.44498 \nL 143.435169 138.252584 \nL 144.045116 138.551901 \nL 144.655064 139.331663 \nL 145.265011 138.655574 \nL 146.484905 139.23031 \nL 147.094852 139.04065 \nL 147.704799 138.386582 \nL 148.924694 138.948566 \nL 150.144588 138.586809 \nL 151.364482 136.445446 \nL 151.97443 136.730192 \nL 152.584377 136.56974 \nL 153.194324 135.973313 \nL 153.804271 136.690625 \nL 154.414218 136.965951 \nL 155.024165 136.808245 \nL 155.634113 136.226227 \nL 157.463954 137.034195 \nL 158.683848 136.730192 \nL 159.293796 137.40097 \nL 159.903743 137.655854 \nL 161.733584 137.202448 \nL 162.343531 136.65799 \nL 163.563426 137.942465 \nL 164.173373 137.403479 \nL 164.78332 137.645922 \nL 165.393267 137.115268 \nL 166.003214 137.739275 \nL 166.613162 137.594881 \nL 167.223109 138.208606 \nL 167.833056 137.311224 \nL 168.443003 137.919391 \nL 169.05295 137.405761 \nL 169.662897 137.636909 \nL 170.272845 137.130843 \nL 172.102686 136.730192 \nL 172.712633 136.240685 \nL 173.932528 136.697916 \nL 174.542475 136.21675 \nL 175.152422 136.442975 \nL 175.762369 136.317602 \nL 176.372316 136.540806 \nL 176.982263 137.106889 \nL 177.592211 136.29307 \nL 178.202158 135.1464 \nL 178.812105 135.371091 \nL 179.422052 134.579494 \nL 180.031999 135.140985 \nL 180.641946 135.362154 \nL 181.861841 136.45943 \nL 182.471788 136.670326 \nL 183.081735 137.206566 \nL 183.691682 136.759807 \nL 184.301629 136.641781 \nL 184.911577 136.202416 \nL 185.521524 136.409288 \nL 186.131471 136.294803 \nL 186.741418 135.546076 \nL 187.351365 135.437016 \nL 187.961312 135.014494 \nL 188.57126 134.909136 \nL 191.620995 135.924856 \nL 192.230943 135.818163 \nL 192.84089 136.015047 \nL 194.060784 135.803819 \nL 194.670731 136.296299 \nL 195.280678 136.487266 \nL 196.500573 137.45221 \nL 197.11052 137.342402 \nL 197.720467 136.942158 \nL 198.330414 137.415938 \nL 198.940361 137.018999 \nL 199.550309 137.48814 \nL 200.770203 137.274129 \nL 201.990097 137.6287 \nL 203.209992 137.417217 \nL 203.819939 137.870215 \nL 204.429886 136.93197 \nL 205.039833 137.383142 \nL 205.64978 137.555353 \nL 207.479622 137.248556 \nL 211.749252 138.407904 \nL 212.359199 138.830606 \nL 212.969146 138.988349 \nL 213.579093 138.884411 \nL 214.189041 138.521973 \nL 214.798988 137.645922 \nL 215.408935 137.80591 \nL 216.018882 138.22081 \nL 217.238776 138.532349 \nL 217.848724 138.433117 \nL 218.458671 138.838937 \nL 219.068618 138.237009 \nL 219.678565 138.140115 \nL 220.898459 138.44498 \nL 221.508407 138.348408 \nL 222.118354 137.51377 \nL 223.948195 135.778559 \nL 224.558142 135.936521 \nL 225.16809 135.851689 \nL 225.778037 135.045473 \nL 226.387984 135.444174 \nL 226.997931 135.123289 \nL 227.607878 135.518714 \nL 228.217825 135.6741 \nL 228.827773 135.355933 \nL 229.43772 135.275457 \nL 231.267561 134.339323 \nL 233.097403 134.114177 \nL 233.70735 134.49897 \nL 234.317297 134.652434 \nL 234.927244 134.57707 \nL 235.537191 134.729162 \nL 236.147139 134.654063 \nL 236.757086 134.8048 \nL 237.367033 134.729966 \nL 237.97698 135.103104 \nL 238.586927 134.8048 \nL 239.196874 134.730752 \nL 239.806822 134.878602 \nL 240.416769 135.24604 \nL 241.026716 134.951372 \nL 242.24661 133.931429 \nL 242.856557 134.079487 \nL 243.466505 134.009681 \nL 244.686399 134.302247 \nL 245.296346 134.661703 \nL 245.906293 134.8048 \nL 246.51624 134.733735 \nL 247.126188 134.875639 \nL 247.736135 134.381218 \nL 248.346082 134.312264 \nL 248.956029 134.454158 \nL 250.175923 134.317121 \nL 250.785871 134.040963 \nL 252.005765 133.907968 \nL 252.615712 133.635824 \nL 253.225659 133.982309 \nL 253.835606 133.71168 \nL 254.445554 134.055695 \nL 255.055501 133.990215 \nL 255.665448 133.722161 \nL 256.885342 133.997978 \nL 257.495289 134.33564 \nL 258.105237 133.869443 \nL 258.715184 134.005591 \nL 259.935078 133.87821 \nL 261.154972 134.541708 \nL 261.76492 134.476948 \nL 262.374867 134.608702 \nL 262.984814 134.348639 \nL 263.594761 134.479968 \nL 264.204708 134.416192 \nL 265.424603 134.676056 \nL 266.03455 134.419724 \nL 266.644497 134.356905 \nL 267.254444 134.485838 \nL 267.864391 133.850782 \nL 268.474338 133.980463 \nL 269.694233 133.859303 \nL 270.30418 133.610725 \nL 270.914127 133.927557 \nL 271.524074 133.867672 \nL 272.134021 134.181882 \nL 272.743969 133.748946 \nL 273.353916 133.690103 \nL 273.963863 133.446372 \nL 274.57381 133.758158 \nL 275.183757 133.33147 \nL 276.403652 133.217884 \nL 277.013599 133.344167 \nL 277.623546 133.105615 \nL 278.233493 133.049953 \nL 278.84344 133.356655 \nL 279.453387 133.300596 \nL 281.283229 133.671271 \nL 281.893176 133.614957 \nL 283.11307 133.858242 \nL 283.723018 133.80189 \nL 284.332965 133.56935 \nL 284.942912 133.690103 \nL 285.552859 133.459163 \nL 286.162806 133.579556 \nL 286.772753 133.350188 \nL 287.382701 133.470222 \nL 287.992648 133.763204 \nL 288.602595 133.535209 \nL 289.212542 133.4811 \nL 289.822489 133.771668 \nL 290.432436 133.373773 \nL 291.652331 133.6092 \nL 292.262278 133.555631 \nL 292.872225 133.672228 \nL 294.092119 133.565591 \nL 294.702067 133.681241 \nL 295.312014 133.628183 \nL 295.921961 133.240115 \nL 296.531908 133.188496 \nL 297.141855 132.970385 \nL 297.751802 132.919742 \nL 298.36175 132.703468 \nL 298.971697 132.65379 \nL 299.581644 132.769402 \nL 300.191591 132.7198 \nL 301.411485 133.276405 \nL 302.021433 133.062555 \nL 302.63138 133.175629 \nL 303.241327 133.12563 \nL 304.461221 133.673089 \nL 305.071168 133.622209 \nL 305.681116 133.732434 \nL 306.291063 133.681667 \nL 306.90101 133.471102 \nL 307.510957 133.421235 \nL 309.340799 132.797796 \nL 309.950746 132.908153 \nL 310.560693 132.544985 \nL 311.17064 132.340887 \nL 312.390534 132.248689 \nL 313.000482 132.359046 \nL 313.610429 132.313127 \nL 314.220376 132.112087 \nL 315.44027 132.022133 \nL 316.050217 132.131695 \nL 316.660165 131.93304 \nL 317.270112 131.428404 \nL 317.880059 131.232401 \nL 319.099953 131.147957 \nL 319.7099 131.25804 \nL 320.319848 131.215964 \nL 320.929795 131.022801 \nL 321.539742 131.283319 \nL 322.149689 131.392038 \nL 323.369583 131.308238 \nL 323.979531 130.967623 \nL 325.199425 130.886398 \nL 325.809372 130.994521 \nL 326.419319 130.954036 \nL 328.859108 131.380913 \nL 329.469055 131.632796 \nL 330.079002 131.153212 \nL 330.688949 131.404469 \nL 331.298897 131.218388 \nL 333.738685 131.635125 \nL 334.348632 131.594376 \nL 334.95858 131.697244 \nL 335.568527 131.942745 \nL 336.178474 132.044363 \nL 336.788421 131.860611 \nL 337.398368 132.104096 \nL 338.008315 132.204673 \nL 338.618263 132.163299 \nL 339.22821 132.404492 \nL 339.838157 132.503734 \nL 340.448104 132.74311 \nL 341.058051 132.420389 \nL 342.277946 132.337772 \nL 345.937629 132.921181 \nL 346.547576 132.741888 \nL 347.157523 132.837836 \nL 347.76747 132.522556 \nL 348.377417 132.7552 \nL 350.207259 133.03987 \nL 350.817206 132.998477 \nL 351.427153 132.822072 \nL 352.0371 133.051108 \nL 352.647048 133.009952 \nL 353.256995 133.103305 \nL 353.866942 132.794122 \nL 354.476889 132.753761 \nL 355.086836 132.580092 \nL 355.696783 132.673559 \nL 356.306731 132.899556 \nL 356.916678 132.991972 \nL 357.526625 132.95162 \nL 358.136572 132.779343 \nL 358.746519 132.871427 \nL 359.356466 132.831587 \nL 359.966414 133.05445 \nL 361.186308 132.974504 \nL 361.796255 133.065234 \nL 362.406202 132.764999 \nL 363.626097 132.68688 \nL 364.236044 132.777469 \nL 364.845991 132.609395 \nL 365.455938 132.699766 \nL 366.065885 132.918397 \nL 366.675832 133.007774 \nL 367.28578 133.2249 \nL 368.505674 133.401362 \nL 369.115621 133.616386 \nL 369.725568 133.703481 \nL 369.725568 133.703481 \n\" style=\"fill:none;stroke:#9467bd;stroke-linecap:square;stroke-width:1.5;\"/>\n   </g>\n   <g id=\"line2d_20\">\n    <path clip-path=\"url(#pf0a1004df2)\" d=\"M 65.361932 50.087911 \nL 65.971879 18.319091 \nL 66.581826 28.908691 \nL 67.191773 81.856751 \nL 67.80172 88.21052 \nL 68.411668 113.62558 \nL 69.021615 131.779197 \nL 69.631562 145.39441 \nL 70.241509 148.92428 \nL 70.851456 151.74818 \nL 71.461403 159.834793 \nL 72.071351 161.27883 \nL 73.291245 154.471219 \nL 74.511139 157.30773 \nL 75.121086 143.525655 \nL 76.340981 147.066461 \nL 76.950928 151.74818 \nL 77.560875 146.907212 \nL 78.170822 145.39441 \nL 78.780769 146.775665 \nL 79.390717 140.09961 \nL 80.000664 141.582152 \nL 81.220558 139.511297 \nL 82.440452 133.344167 \nL 83.660347 132.072 \nL 84.270294 125.53889 \nL 84.880241 123.252499 \nL 85.490188 124.838109 \nL 86.100135 124.517754 \nL 86.710083 127.74506 \nL 87.32003 129.08069 \nL 88.539924 128.288117 \nL 89.149871 131.09844 \nL 89.759819 129.122576 \nL 90.979713 131.357026 \nL 91.58966 128.065964 \nL 92.199607 129.15701 \nL 92.809554 128.819368 \nL 94.029449 133.4811 \nL 95.249343 135.228392 \nL 97.079185 130.409114 \nL 97.689132 130.098313 \nL 98.299079 130.954036 \nL 100.12892 136.630599 \nL 100.738868 138.394498 \nL 101.958762 139.665604 \nL 102.568709 139.24561 \nL 103.178656 139.847472 \nL 103.788603 138.44498 \nL 105.008498 139.618264 \nL 105.618445 141.126957 \nL 106.228392 140.722528 \nL 106.838339 139.408978 \nL 107.448286 139.04065 \nL 108.668181 136.56974 \nL 109.278128 133.644298 \nL 109.888075 131.656541 \nL 110.498022 132.263298 \nL 111.107969 132.018062 \nL 111.717917 132.604368 \nL 112.327864 131.546459 \nL 113.547758 131.09844 \nL 114.157705 131.667145 \nL 114.767652 132.99682 \nL 115.3776 131.232401 \nL 115.987547 131.779197 \nL 116.597494 130.818125 \nL 117.207441 130.618212 \nL 117.817388 128.962256 \nL 118.427335 128.065964 \nL 120.257177 127.589901 \nL 120.867124 126.056867 \nL 123.306913 128.1863 \nL 123.91686 129.346244 \nL 124.526807 129.83417 \nL 125.136754 129.028655 \nL 125.746701 128.874622 \nL 126.356649 129.35273 \nL 126.966596 128.575618 \nL 127.576543 128.430476 \nL 128.18649 125.844361 \nL 129.406384 126.812648 \nL 130.016332 126.689405 \nL 130.626279 127.156747 \nL 131.236226 128.198438 \nL 132.45612 126.791042 \nL 133.066067 126.673499 \nL 135.505856 124.032612 \nL 136.115803 125.029776 \nL 136.72575 124.933128 \nL 137.335698 124.304179 \nL 137.945645 124.21519 \nL 138.555592 123.602573 \nL 140.995381 125.31651 \nL 141.605328 126.232259 \nL 142.215275 125.132407 \nL 142.825222 125.53889 \nL 143.435169 124.954004 \nL 144.045116 125.844361 \nL 145.265011 126.621927 \nL 145.874958 127.479658 \nL 147.704799 128.575618 \nL 148.314747 129.394057 \nL 149.534641 128.252954 \nL 151.364482 127.943932 \nL 151.97443 127.399484 \nL 152.584377 127.74506 \nL 153.194324 127.209492 \nL 153.804271 127.551642 \nL 154.414218 127.02468 \nL 155.634113 128.550538 \nL 156.24406 128.874622 \nL 156.854007 128.352858 \nL 157.463954 127.001929 \nL 158.073901 126.914503 \nL 158.683848 127.240793 \nL 159.293796 127.9728 \nL 159.903743 127.473532 \nL 160.51369 127.790033 \nL 161.123637 128.504656 \nL 161.733584 127.611857 \nL 162.343531 127.12734 \nL 162.953479 126.254186 \nL 166.003214 123.960022 \nL 167.223109 125.349798 \nL 168.443003 125.959367 \nL 169.05295 126.630363 \nL 169.662897 125.446541 \nL 171.492739 126.33311 \nL 172.102686 126.982936 \nL 173.932528 126.759069 \nL 174.542475 127.39208 \nL 177.592211 127.020012 \nL 178.202158 127.2896 \nL 178.812105 126.197209 \nL 179.422052 126.468302 \nL 180.031999 126.400351 \nL 180.641946 126.667524 \nL 181.251894 126.599242 \nL 182.471788 127.123221 \nL 183.081735 126.72613 \nL 184.301629 127.240793 \nL 184.911577 127.816732 \nL 185.521524 128.065964 \nL 186.131471 127.993393 \nL 186.741418 128.556938 \nL 187.351365 128.482644 \nL 187.961312 127.780016 \nL 188.57126 127.710285 \nL 189.181207 127.329781 \nL 189.791154 127.882817 \nL 190.401101 128.122042 \nL 191.011048 126.824227 \nL 192.84089 126.635674 \nL 194.060784 127.711762 \nL 194.670731 127.049031 \nL 195.890626 126.92416 \nL 197.11052 127.387194 \nL 197.720467 127.324072 \nL 198.330414 126.971395 \nL 198.940361 127.488349 \nL 200.160256 127.363459 \nL 201.38015 127.808097 \nL 201.990097 126.897896 \nL 202.600044 126.839167 \nL 203.209992 127.060857 \nL 204.429886 126.943522 \nL 205.039833 127.161869 \nL 206.259727 126.497434 \nL 208.089569 126.33311 \nL 208.699516 126.010039 \nL 209.309463 126.493969 \nL 209.91941 126.439898 \nL 211.139305 126.8626 \nL 211.749252 126.807667 \nL 212.969146 127.74506 \nL 213.579093 127.687193 \nL 214.798988 128.089444 \nL 216.628829 127.149665 \nL 217.238776 126.587265 \nL 218.458671 125.98013 \nL 219.068618 126.433574 \nL 219.678565 125.882848 \nL 220.288512 126.33311 \nL 221.508407 126.234228 \nL 222.118354 126.431623 \nL 222.728301 126.872816 \nL 223.338248 127.066244 \nL 223.948195 126.771301 \nL 224.558142 126.963641 \nL 225.16809 126.912931 \nL 225.778037 127.343945 \nL 226.387984 127.531939 \nL 226.997931 126.763064 \nL 227.607878 126.951834 \nL 228.217825 126.902109 \nL 230.657614 127.641245 \nL 231.267561 127.357162 \nL 231.877508 127.770832 \nL 233.70735 128.305765 \nL 234.317297 127.795855 \nL 234.927244 128.20053 \nL 235.537191 127.694635 \nL 236.147139 127.644569 \nL 236.757086 127.369546 \nL 237.97698 127.272757 \nL 238.586927 127.447808 \nL 239.196874 127.8438 \nL 239.806822 127.794255 \nL 240.416769 127.30383 \nL 241.026716 127.2565 \nL 241.636663 126.771301 \nL 242.24661 126.944478 \nL 242.856557 126.898862 \nL 243.466505 127.07041 \nL 244.076452 126.808567 \nL 245.296346 126.719493 \nL 248.346082 127.557426 \nL 248.956029 127.932079 \nL 249.565976 128.094556 \nL 250.175923 127.837959 \nL 250.785871 127.999679 \nL 251.395818 128.367979 \nL 252.005765 128.526925 \nL 252.615712 128.478544 \nL 253.225659 128.224853 \nL 253.835606 128.58768 \nL 254.445554 128.743871 \nL 255.055501 129.102703 \nL 255.665448 129.256252 \nL 256.885342 129.15701 \nL 257.495289 128.705725 \nL 258.105237 128.858584 \nL 258.715184 129.210295 \nL 259.325131 129.360616 \nL 259.935078 129.31144 \nL 260.545025 129.064642 \nL 261.154972 128.622048 \nL 262.374867 128.529481 \nL 263.594761 128.827841 \nL 264.204708 129.169962 \nL 265.424603 129.461714 \nL 266.03455 129.798807 \nL 266.644497 129.366032 \nL 267.864391 129.653097 \nL 268.474338 129.605114 \nL 270.30418 130.594097 \nL 270.914127 130.731873 \nL 271.524074 131.05627 \nL 272.134021 131.191878 \nL 272.743969 131.513018 \nL 273.353916 131.646496 \nL 273.963863 131.40872 \nL 274.57381 131.541725 \nL 275.183757 131.858131 \nL 275.793704 131.989071 \nL 277.013599 131.883533 \nL 277.623546 132.013271 \nL 278.233493 132.323807 \nL 278.84344 132.270541 \nL 279.453387 132.398073 \nL 280.063335 132.704879 \nL 280.673282 132.292014 \nL 281.893176 132.187148 \nL 282.503123 132.491104 \nL 283.11307 132.61589 \nL 284.332965 133.21636 \nL 284.942912 133.16209 \nL 285.552859 133.459163 \nL 286.162806 133.579556 \nL 286.772753 133.873846 \nL 287.992648 133.763204 \nL 288.602595 133.535209 \nL 289.212542 132.963133 \nL 289.822489 133.082911 \nL 290.432436 133.373773 \nL 291.042384 133.491808 \nL 291.652331 133.78 \nL 292.262278 133.896313 \nL 292.872225 133.672228 \nL 293.482172 133.957636 \nL 295.312014 134.300533 \nL 295.921961 134.581274 \nL 296.531908 134.693335 \nL 297.141855 134.971567 \nL 297.751802 134.749357 \nL 298.36175 134.860102 \nL 298.971697 135.13573 \nL 299.581644 135.07986 \nL 300.191591 134.859676 \nL 302.021433 134.69591 \nL 303.851274 135.020913 \nL 304.461221 134.966473 \nL 305.071168 135.073574 \nL 305.681116 134.858426 \nL 306.291063 134.8048 \nL 306.90101 134.911503 \nL 307.510957 134.538735 \nL 308.120904 134.64556 \nL 308.730851 134.593014 \nL 309.340799 134.857621 \nL 309.950746 134.8048 \nL 310.560693 135.067571 \nL 311.780587 134.961683 \nL 312.390534 135.06563 \nL 313.000482 134.70073 \nL 313.610429 134.649073 \nL 314.220376 134.442324 \nL 314.830323 134.391548 \nL 315.44027 134.186436 \nL 316.050217 134.290743 \nL 316.660165 134.240706 \nL 317.270112 134.497862 \nL 317.880059 134.294464 \nL 318.490006 134.244777 \nL 319.099953 133.890594 \nL 320.319848 133.793861 \nL 322.149689 134.102172 \nL 322.759636 134.053763 \nL 323.369583 134.305295 \nL 323.979531 134.256631 \nL 324.589478 134.357359 \nL 326.419319 134.212378 \nL 327.029266 134.016744 \nL 327.639214 134.116847 \nL 328.249161 133.334027 \nL 328.859108 133.435247 \nL 329.469055 133.389603 \nL 330.079002 133.198106 \nL 330.688949 133.444668 \nL 331.298897 133.544715 \nL 333.738685 133.36404 \nL 334.348632 133.606881 \nL 334.95858 133.561776 \nL 335.568527 133.659976 \nL 336.788421 133.570136 \nL 337.398368 133.667664 \nL 338.008315 133.4811 \nL 338.618263 133.153863 \nL 339.22821 133.251656 \nL 340.448104 133.164817 \nL 341.667998 133.358643 \nL 342.277946 133.31528 \nL 342.887893 133.550774 \nL 343.49784 133.507175 \nL 344.107787 133.602487 \nL 344.717734 133.558964 \nL 345.327681 133.791882 \nL 346.547576 133.979639 \nL 347.76747 133.618034 \nL 348.377417 133.57504 \nL 348.987365 133.668583 \nL 349.597312 133.625665 \nL 350.207259 133.447158 \nL 352.0371 133.320914 \nL 353.256995 133.774944 \nL 354.476889 133.957636 \nL 355.086836 133.914917 \nL 355.696783 134.138794 \nL 356.306731 133.962947 \nL 356.916678 134.053138 \nL 357.526625 134.27532 \nL 358.746519 134.453278 \nL 359.356466 134.410161 \nL 359.966414 134.629768 \nL 360.576361 134.717469 \nL 361.796255 134.630847 \nL 362.406202 134.848201 \nL 363.016149 134.934737 \nL 363.626097 135.150585 \nL 364.236044 134.977342 \nL 364.845991 134.933942 \nL 365.455938 135.019607 \nL 366.065885 134.976291 \nL 366.675832 134.8048 \nL 367.28578 134.8902 \nL 368.505674 134.8048 \nL 369.725568 134.974237 \nL 369.725568 134.974237 \n\" style=\"fill:none;stroke:#8c564b;stroke-linecap:square;stroke-width:1.5;\"/>\n   </g>\n   <g id=\"line2d_21\">\n    <path clip-path=\"url(#pf0a1004df2)\" d=\"M 50.14375 134.593011 \nL 384.94375 134.593011 \n\" style=\"fill:none;stroke:#000000;stroke-dasharray:5.55,2.4;stroke-dashoffset:0;stroke-width:1.5;\"/>\n   </g>\n   <g id=\"patch_3\">\n    <path d=\"M 50.14375 251.82 \nL 50.14375 7.2 \n\" style=\"fill:none;stroke:#000000;stroke-linecap:square;stroke-linejoin:miter;stroke-width:0.8;\"/>\n   </g>\n   <g id=\"patch_4\">\n    <path d=\"M 384.94375 251.82 \nL 384.94375 7.2 \n\" style=\"fill:none;stroke:#000000;stroke-linecap:square;stroke-linejoin:miter;stroke-width:0.8;\"/>\n   </g>\n   <g id=\"patch_5\">\n    <path d=\"M 50.14375 251.82 \nL 384.94375 251.82 \n\" style=\"fill:none;stroke:#000000;stroke-linecap:square;stroke-linejoin:miter;stroke-width:0.8;\"/>\n   </g>\n   <g id=\"patch_6\">\n    <path d=\"M 50.14375 7.2 \nL 384.94375 7.2 \n\" style=\"fill:none;stroke:#000000;stroke-linecap:square;stroke-linejoin:miter;stroke-width:0.8;\"/>\n   </g>\n   <g id=\"legend_1\">\n    <g id=\"patch_7\">\n     <path d=\"M 302.089063 103.26875 \nL 377.94375 103.26875 \nQ 379.94375 103.26875 379.94375 101.26875 \nL 379.94375 14.2 \nQ 379.94375 12.2 377.94375 12.2 \nL 302.089063 12.2 \nQ 300.089063 12.2 300.089063 14.2 \nL 300.089063 101.26875 \nQ 300.089063 103.26875 302.089063 103.26875 \nz\n\" style=\"fill:#ffffff;opacity:0.8;stroke:#cccccc;stroke-linejoin:miter;\"/>\n    </g>\n    <g id=\"line2d_22\">\n     <path d=\"M 304.089063 20.298437 \nL 324.089063 20.298437 \n\" style=\"fill:none;stroke:#1f77b4;stroke-linecap:square;stroke-width:1.5;\"/>\n    </g>\n    <g id=\"line2d_23\"/>\n    <g id=\"text_17\">\n     <!-- P(die=1) -->\n     <g transform=\"translate(332.089063 23.798437)scale(0.1 -0.1)\">\n      <defs>\n       <path d=\"M 1259 4147 \nL 1259 2394 \nL 2053 2394 \nQ 2494 2394 2734 2622 \nQ 2975 2850 2975 3272 \nQ 2975 3691 2734 3919 \nQ 2494 4147 2053 4147 \nL 1259 4147 \nz\nM 628 4666 \nL 2053 4666 \nQ 2838 4666 3239 4311 \nQ 3641 3956 3641 3272 \nQ 3641 2581 3239 2228 \nQ 2838 1875 2053 1875 \nL 1259 1875 \nL 1259 0 \nL 628 0 \nL 628 4666 \nz\n\" id=\"DejaVuSans-50\" transform=\"scale(0.015625)\"/>\n       <path d=\"M 1984 4856 \nQ 1566 4138 1362 3434 \nQ 1159 2731 1159 2009 \nQ 1159 1288 1364 580 \nQ 1569 -128 1984 -844 \nL 1484 -844 \nQ 1016 -109 783 600 \nQ 550 1309 550 2009 \nQ 550 2706 781 3412 \nQ 1013 4119 1484 4856 \nL 1984 4856 \nz\n\" id=\"DejaVuSans-28\" transform=\"scale(0.015625)\"/>\n       <path d=\"M 678 2906 \nL 4684 2906 \nL 4684 2381 \nL 678 2381 \nL 678 2906 \nz\nM 678 1631 \nL 4684 1631 \nL 4684 1100 \nL 678 1100 \nL 678 1631 \nz\n\" id=\"DejaVuSans-3d\" transform=\"scale(0.015625)\"/>\n       <path d=\"M 513 4856 \nL 1013 4856 \nQ 1481 4119 1714 3412 \nQ 1947 2706 1947 2009 \nQ 1947 1309 1714 600 \nQ 1481 -109 1013 -844 \nL 513 -844 \nQ 928 -128 1133 580 \nQ 1338 1288 1338 2009 \nQ 1338 2731 1133 3434 \nQ 928 4138 513 4856 \nz\n\" id=\"DejaVuSans-29\" transform=\"scale(0.015625)\"/>\n      </defs>\n      <use xlink:href=\"#DejaVuSans-50\"/>\n      <use x=\"60.302734\" xlink:href=\"#DejaVuSans-28\"/>\n      <use x=\"99.316406\" xlink:href=\"#DejaVuSans-64\"/>\n      <use x=\"162.792969\" xlink:href=\"#DejaVuSans-69\"/>\n      <use x=\"190.576172\" xlink:href=\"#DejaVuSans-65\"/>\n      <use x=\"252.099609\" xlink:href=\"#DejaVuSans-3d\"/>\n      <use x=\"335.888672\" xlink:href=\"#DejaVuSans-31\"/>\n      <use x=\"399.511719\" xlink:href=\"#DejaVuSans-29\"/>\n     </g>\n    </g>\n    <g id=\"line2d_24\">\n     <path d=\"M 304.089063 34.976562 \nL 324.089063 34.976562 \n\" style=\"fill:none;stroke:#ff7f0e;stroke-linecap:square;stroke-width:1.5;\"/>\n    </g>\n    <g id=\"line2d_25\"/>\n    <g id=\"text_18\">\n     <!-- P(die=2) -->\n     <g transform=\"translate(332.089063 38.476562)scale(0.1 -0.1)\">\n      <use xlink:href=\"#DejaVuSans-50\"/>\n      <use x=\"60.302734\" xlink:href=\"#DejaVuSans-28\"/>\n      <use x=\"99.316406\" xlink:href=\"#DejaVuSans-64\"/>\n      <use x=\"162.792969\" xlink:href=\"#DejaVuSans-69\"/>\n      <use x=\"190.576172\" xlink:href=\"#DejaVuSans-65\"/>\n      <use x=\"252.099609\" xlink:href=\"#DejaVuSans-3d\"/>\n      <use x=\"335.888672\" xlink:href=\"#DejaVuSans-32\"/>\n      <use x=\"399.511719\" xlink:href=\"#DejaVuSans-29\"/>\n     </g>\n    </g>\n    <g id=\"line2d_26\">\n     <path d=\"M 304.089063 49.654687 \nL 324.089063 49.654687 \n\" style=\"fill:none;stroke:#2ca02c;stroke-linecap:square;stroke-width:1.5;\"/>\n    </g>\n    <g id=\"line2d_27\"/>\n    <g id=\"text_19\">\n     <!-- P(die=3) -->\n     <g transform=\"translate(332.089063 53.154687)scale(0.1 -0.1)\">\n      <use xlink:href=\"#DejaVuSans-50\"/>\n      <use x=\"60.302734\" xlink:href=\"#DejaVuSans-28\"/>\n      <use x=\"99.316406\" xlink:href=\"#DejaVuSans-64\"/>\n      <use x=\"162.792969\" xlink:href=\"#DejaVuSans-69\"/>\n      <use x=\"190.576172\" xlink:href=\"#DejaVuSans-65\"/>\n      <use x=\"252.099609\" xlink:href=\"#DejaVuSans-3d\"/>\n      <use x=\"335.888672\" xlink:href=\"#DejaVuSans-33\"/>\n      <use x=\"399.511719\" xlink:href=\"#DejaVuSans-29\"/>\n     </g>\n    </g>\n    <g id=\"line2d_28\">\n     <path d=\"M 304.089063 64.332812 \nL 324.089063 64.332812 \n\" style=\"fill:none;stroke:#d62728;stroke-linecap:square;stroke-width:1.5;\"/>\n    </g>\n    <g id=\"line2d_29\"/>\n    <g id=\"text_20\">\n     <!-- P(die=4) -->\n     <g transform=\"translate(332.089063 67.832812)scale(0.1 -0.1)\">\n      <use xlink:href=\"#DejaVuSans-50\"/>\n      <use x=\"60.302734\" xlink:href=\"#DejaVuSans-28\"/>\n      <use x=\"99.316406\" xlink:href=\"#DejaVuSans-64\"/>\n      <use x=\"162.792969\" xlink:href=\"#DejaVuSans-69\"/>\n      <use x=\"190.576172\" xlink:href=\"#DejaVuSans-65\"/>\n      <use x=\"252.099609\" xlink:href=\"#DejaVuSans-3d\"/>\n      <use x=\"335.888672\" xlink:href=\"#DejaVuSans-34\"/>\n      <use x=\"399.511719\" xlink:href=\"#DejaVuSans-29\"/>\n     </g>\n    </g>\n    <g id=\"line2d_30\">\n     <path d=\"M 304.089063 79.010937 \nL 324.089063 79.010937 \n\" style=\"fill:none;stroke:#9467bd;stroke-linecap:square;stroke-width:1.5;\"/>\n    </g>\n    <g id=\"line2d_31\"/>\n    <g id=\"text_21\">\n     <!-- P(die=5) -->\n     <g transform=\"translate(332.089063 82.510937)scale(0.1 -0.1)\">\n      <use xlink:href=\"#DejaVuSans-50\"/>\n      <use x=\"60.302734\" xlink:href=\"#DejaVuSans-28\"/>\n      <use x=\"99.316406\" xlink:href=\"#DejaVuSans-64\"/>\n      <use x=\"162.792969\" xlink:href=\"#DejaVuSans-69\"/>\n      <use x=\"190.576172\" xlink:href=\"#DejaVuSans-65\"/>\n      <use x=\"252.099609\" xlink:href=\"#DejaVuSans-3d\"/>\n      <use x=\"335.888672\" xlink:href=\"#DejaVuSans-35\"/>\n      <use x=\"399.511719\" xlink:href=\"#DejaVuSans-29\"/>\n     </g>\n    </g>\n    <g id=\"line2d_32\">\n     <path d=\"M 304.089063 93.689062 \nL 324.089063 93.689062 \n\" style=\"fill:none;stroke:#8c564b;stroke-linecap:square;stroke-width:1.5;\"/>\n    </g>\n    <g id=\"line2d_33\"/>\n    <g id=\"text_22\">\n     <!-- P(die=6) -->\n     <g transform=\"translate(332.089063 97.189062)scale(0.1 -0.1)\">\n      <defs>\n       <path d=\"M 2113 2584 \nQ 1688 2584 1439 2293 \nQ 1191 2003 1191 1497 \nQ 1191 994 1439 701 \nQ 1688 409 2113 409 \nQ 2538 409 2786 701 \nQ 3034 994 3034 1497 \nQ 3034 2003 2786 2293 \nQ 2538 2584 2113 2584 \nz\nM 3366 4563 \nL 3366 3988 \nQ 3128 4100 2886 4159 \nQ 2644 4219 2406 4219 \nQ 1781 4219 1451 3797 \nQ 1122 3375 1075 2522 \nQ 1259 2794 1537 2939 \nQ 1816 3084 2150 3084 \nQ 2853 3084 3261 2657 \nQ 3669 2231 3669 1497 \nQ 3669 778 3244 343 \nQ 2819 -91 2113 -91 \nQ 1303 -91 875 529 \nQ 447 1150 447 2328 \nQ 447 3434 972 4092 \nQ 1497 4750 2381 4750 \nQ 2619 4750 2861 4703 \nQ 3103 4656 3366 4563 \nz\n\" id=\"DejaVuSans-36\" transform=\"scale(0.015625)\"/>\n      </defs>\n      <use xlink:href=\"#DejaVuSans-50\"/>\n      <use x=\"60.302734\" xlink:href=\"#DejaVuSans-28\"/>\n      <use x=\"99.316406\" xlink:href=\"#DejaVuSans-64\"/>\n      <use x=\"162.792969\" xlink:href=\"#DejaVuSans-69\"/>\n      <use x=\"190.576172\" xlink:href=\"#DejaVuSans-65\"/>\n      <use x=\"252.099609\" xlink:href=\"#DejaVuSans-3d\"/>\n      <use x=\"335.888672\" xlink:href=\"#DejaVuSans-36\"/>\n      <use x=\"399.511719\" xlink:href=\"#DejaVuSans-29\"/>\n     </g>\n    </g>\n   </g>\n  </g>\n </g>\n <defs>\n  <clipPath id=\"pf0a1004df2\">\n   <rect height=\"244.62\" width=\"334.8\" x=\"50.14375\" y=\"7.2\"/>\n  </clipPath>\n </defs>\n</svg>\n"
     },
     "metadata": {
      "needs_background": "light"
     },
     "output_type": "display_data"
    }
   ],
   "source": [
    "counts = multinomial.Multinomial(10, fair_probs).sample((500,))\n",
    "cum_counts = counts.cumsum(dim=0)\n",
    "estimates = cum_counts / cum_counts.sum(dim=1, keepdims=True)\n",
    "\n",
    "set_figsize((6, 4.5))\n",
    "for i in range(6):\n",
    "    plt.plot(estimates[:, i].numpy(),\n",
    "                 label=(\"P(die=\" + str(i + 1) + \")\"))\n",
    "plt.axhline(y=0.167, color='black', linestyle='dashed')\n",
    "plt.gca().set_xlabel('Groups of experiments')\n",
    "plt.gca().set_ylabel('Estimated probability')\n",
    "plt.legend();"
   ],
   "metadata": {
    "collapsed": false,
    "pycharm": {
     "name": "#%%\n"
    }
   }
  },
  {
   "cell_type": "code",
   "execution_count": 23,
   "outputs": [],
   "source": [
    "multinomial.Multinomial?"
   ],
   "metadata": {
    "collapsed": false,
    "pycharm": {
     "name": "#%%\n"
    }
   }
  }
 ],
 "metadata": {
  "kernelspec": {
   "display_name": "Python 3",
   "language": "python",
   "name": "python3"
  },
  "language_info": {
   "codemirror_mode": {
    "name": "ipython",
    "version": 2
   },
   "file_extension": ".py",
   "mimetype": "text/x-python",
   "name": "python",
   "nbconvert_exporter": "python",
   "pygments_lexer": "ipython2",
   "version": "2.7.6"
  }
 },
 "nbformat": 4,
 "nbformat_minor": 0
}